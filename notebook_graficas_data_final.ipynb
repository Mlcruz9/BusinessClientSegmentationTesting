{
 "cells": [
  {
   "cell_type": "markdown",
   "metadata": {},
   "source": [
    "# Gráficas data final"
   ]
  },
  {
   "cell_type": "code",
   "execution_count": 153,
   "metadata": {},
   "outputs": [],
   "source": [
    "import pandas as pd\n",
    "import plotly.express as px\n",
    "import seaborn as sns\n",
    "import numpy as np"
   ]
  },
  {
   "cell_type": "code",
   "execution_count": 154,
   "metadata": {},
   "outputs": [
    {
     "data": {
      "text/html": [
       "<div>\n",
       "<style scoped>\n",
       "    .dataframe tbody tr th:only-of-type {\n",
       "        vertical-align: middle;\n",
       "    }\n",
       "\n",
       "    .dataframe tbody tr th {\n",
       "        vertical-align: top;\n",
       "    }\n",
       "\n",
       "    .dataframe thead th {\n",
       "        text-align: right;\n",
       "    }\n",
       "</style>\n",
       "<table border=\"1\" class=\"dataframe\">\n",
       "  <thead>\n",
       "    <tr style=\"text-align: right;\">\n",
       "      <th></th>\n",
       "      <th>ClienteID</th>\n",
       "      <th>Income</th>\n",
       "      <th>Ubicacion</th>\n",
       "      <th>HaComprado</th>\n",
       "      <th>FrecuenciaCompra</th>\n",
       "      <th>CategoríaProductoFavorito</th>\n",
       "      <th>GastoMensual</th>\n",
       "      <th>Mes</th>\n",
       "      <th>Año</th>\n",
       "      <th>Edad</th>\n",
       "      <th>...</th>\n",
       "      <th>Latitud</th>\n",
       "      <th>Longitud</th>\n",
       "      <th>Day_of_Week</th>\n",
       "      <th>Hour</th>\n",
       "      <th>Days_Since_Last_Purchase</th>\n",
       "      <th>Average_Days_Between_Purchases</th>\n",
       "      <th>Monthly_Spending_Std</th>\n",
       "      <th>Cancellation_Rate</th>\n",
       "      <th>Average_Transaction_Value</th>\n",
       "      <th>Cluster</th>\n",
       "    </tr>\n",
       "  </thead>\n",
       "  <tbody>\n",
       "    <tr>\n",
       "      <th>0</th>\n",
       "      <td>1</td>\n",
       "      <td>31161.480791</td>\n",
       "      <td>Rome</td>\n",
       "      <td>1</td>\n",
       "      <td>3</td>\n",
       "      <td>Electrónica</td>\n",
       "      <td>354.238240</td>\n",
       "      <td>Julio</td>\n",
       "      <td>2022</td>\n",
       "      <td>53</td>\n",
       "      <td>...</td>\n",
       "      <td>41.911252</td>\n",
       "      <td>12.501644</td>\n",
       "      <td>Sunday</td>\n",
       "      <td>19</td>\n",
       "      <td>29.764254</td>\n",
       "      <td>2.607769</td>\n",
       "      <td>73.154439</td>\n",
       "      <td>0.271263</td>\n",
       "      <td>207.470986</td>\n",
       "      <td>1</td>\n",
       "    </tr>\n",
       "    <tr>\n",
       "      <th>1</th>\n",
       "      <td>2</td>\n",
       "      <td>30880.904610</td>\n",
       "      <td>Stockholm</td>\n",
       "      <td>1</td>\n",
       "      <td>14</td>\n",
       "      <td>Moda</td>\n",
       "      <td>247.349866</td>\n",
       "      <td>Abril</td>\n",
       "      <td>2022</td>\n",
       "      <td>55</td>\n",
       "      <td>...</td>\n",
       "      <td>59.331134</td>\n",
       "      <td>18.062440</td>\n",
       "      <td>Thursday</td>\n",
       "      <td>21</td>\n",
       "      <td>23.066846</td>\n",
       "      <td>5.692095</td>\n",
       "      <td>139.003909</td>\n",
       "      <td>0.188224</td>\n",
       "      <td>35.335695</td>\n",
       "      <td>0</td>\n",
       "    </tr>\n",
       "    <tr>\n",
       "      <th>2</th>\n",
       "      <td>3</td>\n",
       "      <td>24237.173142</td>\n",
       "      <td>Stockholm</td>\n",
       "      <td>1</td>\n",
       "      <td>2</td>\n",
       "      <td>Electrónica</td>\n",
       "      <td>314.977616</td>\n",
       "      <td>Noviembre</td>\n",
       "      <td>2021</td>\n",
       "      <td>28</td>\n",
       "      <td>...</td>\n",
       "      <td>59.332634</td>\n",
       "      <td>18.071068</td>\n",
       "      <td>Sunday</td>\n",
       "      <td>11</td>\n",
       "      <td>28.635921</td>\n",
       "      <td>5.626180</td>\n",
       "      <td>32.056281</td>\n",
       "      <td>0.188723</td>\n",
       "      <td>75.167011</td>\n",
       "      <td>1</td>\n",
       "    </tr>\n",
       "    <tr>\n",
       "      <th>3</th>\n",
       "      <td>4</td>\n",
       "      <td>22496.158034</td>\n",
       "      <td>Madrid</td>\n",
       "      <td>1</td>\n",
       "      <td>0</td>\n",
       "      <td>Libros</td>\n",
       "      <td>225.669044</td>\n",
       "      <td>Agosto</td>\n",
       "      <td>2020</td>\n",
       "      <td>50</td>\n",
       "      <td>...</td>\n",
       "      <td>40.422948</td>\n",
       "      <td>-3.704413</td>\n",
       "      <td>Sunday</td>\n",
       "      <td>20</td>\n",
       "      <td>183.229483</td>\n",
       "      <td>35.436342</td>\n",
       "      <td>37.074231</td>\n",
       "      <td>0.311976</td>\n",
       "      <td>84.954799</td>\n",
       "      <td>2</td>\n",
       "    </tr>\n",
       "    <tr>\n",
       "      <th>4</th>\n",
       "      <td>5</td>\n",
       "      <td>30825.113991</td>\n",
       "      <td>Paris</td>\n",
       "      <td>1</td>\n",
       "      <td>11</td>\n",
       "      <td>Electrónica</td>\n",
       "      <td>278.430570</td>\n",
       "      <td>Mayo</td>\n",
       "      <td>2020</td>\n",
       "      <td>41</td>\n",
       "      <td>...</td>\n",
       "      <td>48.857746</td>\n",
       "      <td>2.345578</td>\n",
       "      <td>Wednesday</td>\n",
       "      <td>25</td>\n",
       "      <td>24.527618</td>\n",
       "      <td>61.676897</td>\n",
       "      <td>210.712576</td>\n",
       "      <td>0.128081</td>\n",
       "      <td>92.810190</td>\n",
       "      <td>0</td>\n",
       "    </tr>\n",
       "  </tbody>\n",
       "</table>\n",
       "<p>5 rows × 23 columns</p>\n",
       "</div>"
      ],
      "text/plain": [
       "   ClienteID        Income  Ubicacion  HaComprado  FrecuenciaCompra  \\\n",
       "0          1  31161.480791       Rome           1                 3   \n",
       "1          2  30880.904610  Stockholm           1                14   \n",
       "2          3  24237.173142  Stockholm           1                 2   \n",
       "3          4  22496.158034     Madrid           1                 0   \n",
       "4          5  30825.113991      Paris           1                11   \n",
       "\n",
       "  CategoríaProductoFavorito  GastoMensual        Mes   Año  Edad  ...  \\\n",
       "0               Electrónica    354.238240      Julio  2022    53  ...   \n",
       "1                      Moda    247.349866      Abril  2022    55  ...   \n",
       "2               Electrónica    314.977616  Noviembre  2021    28  ...   \n",
       "3                    Libros    225.669044     Agosto  2020    50  ...   \n",
       "4               Electrónica    278.430570       Mayo  2020    41  ...   \n",
       "\n",
       "     Latitud   Longitud  Day_of_Week  Hour  Days_Since_Last_Purchase  \\\n",
       "0  41.911252  12.501644       Sunday    19                 29.764254   \n",
       "1  59.331134  18.062440     Thursday    21                 23.066846   \n",
       "2  59.332634  18.071068       Sunday    11                 28.635921   \n",
       "3  40.422948  -3.704413       Sunday    20                183.229483   \n",
       "4  48.857746   2.345578    Wednesday    25                 24.527618   \n",
       "\n",
       "  Average_Days_Between_Purchases  Monthly_Spending_Std  Cancellation_Rate  \\\n",
       "0                       2.607769             73.154439           0.271263   \n",
       "1                       5.692095            139.003909           0.188224   \n",
       "2                       5.626180             32.056281           0.188723   \n",
       "3                      35.436342             37.074231           0.311976   \n",
       "4                      61.676897            210.712576           0.128081   \n",
       "\n",
       "   Average_Transaction_Value  Cluster  \n",
       "0                 207.470986        1  \n",
       "1                  35.335695        0  \n",
       "2                  75.167011        1  \n",
       "3                  84.954799        2  \n",
       "4                  92.810190        0  \n",
       "\n",
       "[5 rows x 23 columns]"
      ]
     },
     "execution_count": 154,
     "metadata": {},
     "output_type": "execute_result"
    }
   ],
   "source": [
    "# Load the data\n",
    "df = pd.read_csv('datasets/Clientes_Dummy_Europe_Cities_Random_Final.csv')\n",
    "\n",
    "df.head()"
   ]
  },
  {
   "cell_type": "code",
   "execution_count": 155,
   "metadata": {},
   "outputs": [
    {
     "name": "stdout",
     "output_type": "stream",
     "text": [
      "<class 'pandas.core.frame.DataFrame'>\n",
      "RangeIndex: 200 entries, 0 to 199\n",
      "Data columns (total 23 columns):\n",
      " #   Column                          Non-Null Count  Dtype  \n",
      "---  ------                          --------------  -----  \n",
      " 0   ClienteID                       200 non-null    int64  \n",
      " 1   Income                          200 non-null    float64\n",
      " 2   Ubicacion                       200 non-null    object \n",
      " 3   HaComprado                      200 non-null    int64  \n",
      " 4   FrecuenciaCompra                200 non-null    int64  \n",
      " 5   CategoríaProductoFavorito       200 non-null    object \n",
      " 6   GastoMensual                    200 non-null    float64\n",
      " 7   Mes                             200 non-null    object \n",
      " 8   Año                             200 non-null    int64  \n",
      " 9   Edad                            200 non-null    int64  \n",
      " 10  TiempoEnLaPlataforma            200 non-null    int64  \n",
      " 11  ValoracionesPromedio            200 non-null    float64\n",
      " 12  NúmeroDevoluciones              200 non-null    float64\n",
      " 13  Latitud                         200 non-null    float64\n",
      " 14  Longitud                        200 non-null    float64\n",
      " 15  Day_of_Week                     200 non-null    object \n",
      " 16  Hour                            200 non-null    int64  \n",
      " 17  Days_Since_Last_Purchase        200 non-null    float64\n",
      " 18  Average_Days_Between_Purchases  200 non-null    float64\n",
      " 19  Monthly_Spending_Std            200 non-null    float64\n",
      " 20  Cancellation_Rate               200 non-null    float64\n",
      " 21  Average_Transaction_Value       200 non-null    float64\n",
      " 22  Cluster                         200 non-null    int64  \n",
      "dtypes: float64(11), int64(8), object(4)\n",
      "memory usage: 36.1+ KB\n"
     ]
    }
   ],
   "source": [
    "df.info()"
   ]
  },
  {
   "cell_type": "code",
   "execution_count": 156,
   "metadata": {},
   "outputs": [
    {
     "name": "stdout",
     "output_type": "stream",
     "text": [
      "ClienteID 0\n",
      "Income 0\n",
      "HaComprado 0\n",
      "FrecuenciaCompra 0\n",
      "GastoMensual 0\n",
      "Año 0\n",
      "Edad 0\n",
      "TiempoEnLaPlataforma 0\n",
      "ValoracionesPromedio 0\n",
      "NúmeroDevoluciones 0\n",
      "Latitud 0\n",
      "Longitud 66\n",
      "Hour 0\n",
      "Days_Since_Last_Purchase 0\n",
      "Average_Days_Between_Purchases 0\n",
      "Monthly_Spending_Std 0\n",
      "Cancellation_Rate 0\n",
      "Average_Transaction_Value 0\n",
      "Cluster 0\n"
     ]
    }
   ],
   "source": [
    "# Chequear por negativos\n",
    "\n",
    "for col in df.select_dtypes('number').columns:\n",
    "    print(col, (df[col] < 0).sum())"
   ]
  },
  {
   "cell_type": "code",
   "execution_count": 257,
   "metadata": {},
   "outputs": [
    {
     "name": "stderr",
     "output_type": "stream",
     "text": [
      "C:\\Users\\misla\\AppData\\Local\\Temp\\ipykernel_22816\\1455729970.py:1: FutureWarning:\n",
      "\n",
      "The default value of numeric_only in DataFrameGroupBy.sum is deprecated. In a future version, numeric_only will default to False. Either specify numeric_only or select only columns which should be valid for the function.\n",
      "\n"
     ]
    },
    {
     "data": {
      "text/html": [
       "<div>\n",
       "<style scoped>\n",
       "    .dataframe tbody tr th:only-of-type {\n",
       "        vertical-align: middle;\n",
       "    }\n",
       "\n",
       "    .dataframe tbody tr th {\n",
       "        vertical-align: top;\n",
       "    }\n",
       "\n",
       "    .dataframe thead th {\n",
       "        text-align: right;\n",
       "    }\n",
       "</style>\n",
       "<table border=\"1\" class=\"dataframe\">\n",
       "  <thead>\n",
       "    <tr style=\"text-align: right;\">\n",
       "      <th></th>\n",
       "      <th>Ubicacion</th>\n",
       "      <th>ClienteID</th>\n",
       "      <th>Income</th>\n",
       "      <th>HaComprado</th>\n",
       "      <th>FrecuenciaCompra</th>\n",
       "      <th>GastoMensual</th>\n",
       "      <th>Año</th>\n",
       "      <th>Edad</th>\n",
       "      <th>TiempoEnLaPlataforma</th>\n",
       "      <th>ValoracionesPromedio</th>\n",
       "      <th>NúmeroDevoluciones</th>\n",
       "      <th>Latitud</th>\n",
       "      <th>Longitud</th>\n",
       "      <th>Hour</th>\n",
       "      <th>Days_Since_Last_Purchase</th>\n",
       "      <th>Average_Days_Between_Purchases</th>\n",
       "      <th>Monthly_Spending_Std</th>\n",
       "      <th>Cancellation_Rate</th>\n",
       "      <th>Average_Transaction_Value</th>\n",
       "      <th>Cluster</th>\n",
       "    </tr>\n",
       "  </thead>\n",
       "  <tbody>\n",
       "    <tr>\n",
       "      <th>0</th>\n",
       "      <td>Amsterdam</td>\n",
       "      <td>1293</td>\n",
       "      <td>414362.456166</td>\n",
       "      <td>12</td>\n",
       "      <td>92</td>\n",
       "      <td>4241.146818</td>\n",
       "      <td>26274</td>\n",
       "      <td>509</td>\n",
       "      <td>530</td>\n",
       "      <td>43.579047</td>\n",
       "      <td>7.251163</td>\n",
       "      <td>680.756848</td>\n",
       "      <td>63.771734</td>\n",
       "      <td>212</td>\n",
       "      <td>727.288211</td>\n",
       "      <td>370.982594</td>\n",
       "      <td>639.143991</td>\n",
       "      <td>2.164514</td>\n",
       "      <td>1336.034960</td>\n",
       "      <td>16</td>\n",
       "    </tr>\n",
       "    <tr>\n",
       "      <th>1</th>\n",
       "      <td>Berlin</td>\n",
       "      <td>2300</td>\n",
       "      <td>707506.879445</td>\n",
       "      <td>22</td>\n",
       "      <td>137</td>\n",
       "      <td>7401.028480</td>\n",
       "      <td>46490</td>\n",
       "      <td>1013</td>\n",
       "      <td>832</td>\n",
       "      <td>79.381390</td>\n",
       "      <td>13.375349</td>\n",
       "      <td>1207.993617</td>\n",
       "      <td>308.255240</td>\n",
       "      <td>432</td>\n",
       "      <td>1020.511979</td>\n",
       "      <td>1188.394088</td>\n",
       "      <td>1076.209137</td>\n",
       "      <td>5.104907</td>\n",
       "      <td>2443.384852</td>\n",
       "      <td>27</td>\n",
       "    </tr>\n",
       "    <tr>\n",
       "      <th>2</th>\n",
       "      <td>Lisbon</td>\n",
       "      <td>2065</td>\n",
       "      <td>587046.144530</td>\n",
       "      <td>19</td>\n",
       "      <td>121</td>\n",
       "      <td>5618.965527</td>\n",
       "      <td>40422</td>\n",
       "      <td>809</td>\n",
       "      <td>511</td>\n",
       "      <td>62.721624</td>\n",
       "      <td>12.049302</td>\n",
       "      <td>774.542019</td>\n",
       "      <td>-182.851175</td>\n",
       "      <td>370</td>\n",
       "      <td>1221.210625</td>\n",
       "      <td>989.921706</td>\n",
       "      <td>1300.471103</td>\n",
       "      <td>5.142562</td>\n",
       "      <td>1743.866219</td>\n",
       "      <td>14</td>\n",
       "    </tr>\n",
       "    <tr>\n",
       "      <th>3</th>\n",
       "      <td>London</td>\n",
       "      <td>2075</td>\n",
       "      <td>492881.741380</td>\n",
       "      <td>13</td>\n",
       "      <td>96</td>\n",
       "      <td>4762.037996</td>\n",
       "      <td>32331</td>\n",
       "      <td>607</td>\n",
       "      <td>548</td>\n",
       "      <td>56.415399</td>\n",
       "      <td>4.909302</td>\n",
       "      <td>824.112723</td>\n",
       "      <td>-1.996210</td>\n",
       "      <td>274</td>\n",
       "      <td>567.716612</td>\n",
       "      <td>777.937080</td>\n",
       "      <td>906.786433</td>\n",
       "      <td>3.135693</td>\n",
       "      <td>2202.804919</td>\n",
       "      <td>15</td>\n",
       "    </tr>\n",
       "    <tr>\n",
       "      <th>4</th>\n",
       "      <td>Madrid</td>\n",
       "      <td>2903</td>\n",
       "      <td>932449.828702</td>\n",
       "      <td>27</td>\n",
       "      <td>149</td>\n",
       "      <td>9638.032378</td>\n",
       "      <td>60630</td>\n",
       "      <td>1289</td>\n",
       "      <td>979</td>\n",
       "      <td>102.574061</td>\n",
       "      <td>9.779535</td>\n",
       "      <td>1212.503808</td>\n",
       "      <td>-111.130543</td>\n",
       "      <td>501</td>\n",
       "      <td>1625.905531</td>\n",
       "      <td>1201.569452</td>\n",
       "      <td>1600.662223</td>\n",
       "      <td>6.872719</td>\n",
       "      <td>3132.890620</td>\n",
       "      <td>23</td>\n",
       "    </tr>\n",
       "    <tr>\n",
       "      <th>5</th>\n",
       "      <td>Paris</td>\n",
       "      <td>2236</td>\n",
       "      <td>764963.527630</td>\n",
       "      <td>23</td>\n",
       "      <td>181</td>\n",
       "      <td>7498.766222</td>\n",
       "      <td>52543</td>\n",
       "      <td>1240</td>\n",
       "      <td>890</td>\n",
       "      <td>88.649504</td>\n",
       "      <td>12.413488</td>\n",
       "      <td>1270.269224</td>\n",
       "      <td>61.223802</td>\n",
       "      <td>482</td>\n",
       "      <td>1063.692740</td>\n",
       "      <td>1051.533448</td>\n",
       "      <td>1473.235050</td>\n",
       "      <td>4.734007</td>\n",
       "      <td>2645.807427</td>\n",
       "      <td>32</td>\n",
       "    </tr>\n",
       "    <tr>\n",
       "      <th>6</th>\n",
       "      <td>Prague</td>\n",
       "      <td>2605</td>\n",
       "      <td>619143.095893</td>\n",
       "      <td>21</td>\n",
       "      <td>104</td>\n",
       "      <td>6051.994839</td>\n",
       "      <td>42435</td>\n",
       "      <td>912</td>\n",
       "      <td>890</td>\n",
       "      <td>70.886176</td>\n",
       "      <td>7.795349</td>\n",
       "      <td>1051.545984</td>\n",
       "      <td>303.231792</td>\n",
       "      <td>322</td>\n",
       "      <td>806.418384</td>\n",
       "      <td>863.415420</td>\n",
       "      <td>1137.671320</td>\n",
       "      <td>4.385999</td>\n",
       "      <td>1362.719663</td>\n",
       "      <td>21</td>\n",
       "    </tr>\n",
       "    <tr>\n",
       "      <th>7</th>\n",
       "      <td>Rome</td>\n",
       "      <td>2065</td>\n",
       "      <td>697661.960688</td>\n",
       "      <td>20</td>\n",
       "      <td>119</td>\n",
       "      <td>6896.069075</td>\n",
       "      <td>44461</td>\n",
       "      <td>849</td>\n",
       "      <td>856</td>\n",
       "      <td>75.509550</td>\n",
       "      <td>11.589302</td>\n",
       "      <td>921.818345</td>\n",
       "      <td>274.907364</td>\n",
       "      <td>355</td>\n",
       "      <td>702.993010</td>\n",
       "      <td>937.923496</td>\n",
       "      <td>1006.010568</td>\n",
       "      <td>4.227755</td>\n",
       "      <td>2077.589355</td>\n",
       "      <td>23</td>\n",
       "    </tr>\n",
       "    <tr>\n",
       "      <th>8</th>\n",
       "      <td>Stockholm</td>\n",
       "      <td>1929</td>\n",
       "      <td>729794.990808</td>\n",
       "      <td>18</td>\n",
       "      <td>168</td>\n",
       "      <td>7328.062403</td>\n",
       "      <td>44465</td>\n",
       "      <td>997</td>\n",
       "      <td>860</td>\n",
       "      <td>76.764990</td>\n",
       "      <td>9.988372</td>\n",
       "      <td>1305.249466</td>\n",
       "      <td>397.517146</td>\n",
       "      <td>423</td>\n",
       "      <td>1121.638962</td>\n",
       "      <td>886.269521</td>\n",
       "      <td>1608.770452</td>\n",
       "      <td>5.452862</td>\n",
       "      <td>3455.188860</td>\n",
       "      <td>30</td>\n",
       "    </tr>\n",
       "    <tr>\n",
       "      <th>9</th>\n",
       "      <td>Vienna</td>\n",
       "      <td>629</td>\n",
       "      <td>191219.254744</td>\n",
       "      <td>7</td>\n",
       "      <td>49</td>\n",
       "      <td>2077.146425</td>\n",
       "      <td>14144</td>\n",
       "      <td>264</td>\n",
       "      <td>269</td>\n",
       "      <td>23.638691</td>\n",
       "      <td>2.758140</td>\n",
       "      <td>337.433434</td>\n",
       "      <td>114.609389</td>\n",
       "      <td>148</td>\n",
       "      <td>305.755659</td>\n",
       "      <td>315.916027</td>\n",
       "      <td>507.044281</td>\n",
       "      <td>1.674781</td>\n",
       "      <td>1018.853910</td>\n",
       "      <td>8</td>\n",
       "    </tr>\n",
       "  </tbody>\n",
       "</table>\n",
       "</div>"
      ],
      "text/plain": [
       "   Ubicacion  ClienteID         Income  HaComprado  FrecuenciaCompra  \\\n",
       "0  Amsterdam       1293  414362.456166          12                92   \n",
       "1     Berlin       2300  707506.879445          22               137   \n",
       "2     Lisbon       2065  587046.144530          19               121   \n",
       "3     London       2075  492881.741380          13                96   \n",
       "4     Madrid       2903  932449.828702          27               149   \n",
       "5      Paris       2236  764963.527630          23               181   \n",
       "6     Prague       2605  619143.095893          21               104   \n",
       "7       Rome       2065  697661.960688          20               119   \n",
       "8  Stockholm       1929  729794.990808          18               168   \n",
       "9     Vienna        629  191219.254744           7                49   \n",
       "\n",
       "   GastoMensual    Año  Edad  TiempoEnLaPlataforma  ValoracionesPromedio  \\\n",
       "0   4241.146818  26274   509                   530             43.579047   \n",
       "1   7401.028480  46490  1013                   832             79.381390   \n",
       "2   5618.965527  40422   809                   511             62.721624   \n",
       "3   4762.037996  32331   607                   548             56.415399   \n",
       "4   9638.032378  60630  1289                   979            102.574061   \n",
       "5   7498.766222  52543  1240                   890             88.649504   \n",
       "6   6051.994839  42435   912                   890             70.886176   \n",
       "7   6896.069075  44461   849                   856             75.509550   \n",
       "8   7328.062403  44465   997                   860             76.764990   \n",
       "9   2077.146425  14144   264                   269             23.638691   \n",
       "\n",
       "   NúmeroDevoluciones      Latitud    Longitud  Hour  \\\n",
       "0            7.251163   680.756848   63.771734   212   \n",
       "1           13.375349  1207.993617  308.255240   432   \n",
       "2           12.049302   774.542019 -182.851175   370   \n",
       "3            4.909302   824.112723   -1.996210   274   \n",
       "4            9.779535  1212.503808 -111.130543   501   \n",
       "5           12.413488  1270.269224   61.223802   482   \n",
       "6            7.795349  1051.545984  303.231792   322   \n",
       "7           11.589302   921.818345  274.907364   355   \n",
       "8            9.988372  1305.249466  397.517146   423   \n",
       "9            2.758140   337.433434  114.609389   148   \n",
       "\n",
       "   Days_Since_Last_Purchase  Average_Days_Between_Purchases  \\\n",
       "0                727.288211                      370.982594   \n",
       "1               1020.511979                     1188.394088   \n",
       "2               1221.210625                      989.921706   \n",
       "3                567.716612                      777.937080   \n",
       "4               1625.905531                     1201.569452   \n",
       "5               1063.692740                     1051.533448   \n",
       "6                806.418384                      863.415420   \n",
       "7                702.993010                      937.923496   \n",
       "8               1121.638962                      886.269521   \n",
       "9                305.755659                      315.916027   \n",
       "\n",
       "   Monthly_Spending_Std  Cancellation_Rate  Average_Transaction_Value  Cluster  \n",
       "0            639.143991           2.164514                1336.034960       16  \n",
       "1           1076.209137           5.104907                2443.384852       27  \n",
       "2           1300.471103           5.142562                1743.866219       14  \n",
       "3            906.786433           3.135693                2202.804919       15  \n",
       "4           1600.662223           6.872719                3132.890620       23  \n",
       "5           1473.235050           4.734007                2645.807427       32  \n",
       "6           1137.671320           4.385999                1362.719663       21  \n",
       "7           1006.010568           4.227755                2077.589355       23  \n",
       "8           1608.770452           5.452862                3455.188860       30  \n",
       "9            507.044281           1.674781                1018.853910        8  "
      ]
     },
     "execution_count": 257,
     "metadata": {},
     "output_type": "execute_result"
    }
   ],
   "source": [
    "df_city = df.groupby('Ubicacion').sum().reset_index()\n",
    "df_city"
   ]
  },
  {
   "cell_type": "code",
   "execution_count": 258,
   "metadata": {},
   "outputs": [],
   "source": [
    "df_city[['Latitud', 'Longitud']] = df[['Latitud', 'Longitud', 'Ubicacion']].groupby('Ubicacion').mean()[['Latitud', 'Longitud']].values"
   ]
  },
  {
   "cell_type": "code",
   "execution_count": 260,
   "metadata": {},
   "outputs": [],
   "source": [
    "df_city.to_csv('datasets/Data_City_Reducida_Final.csv', index=False)"
   ]
  },
  {
   "cell_type": "code",
   "execution_count": 259,
   "metadata": {},
   "outputs": [
    {
     "data": {
      "application/vnd.plotly.v1+json": {
       "config": {
        "plotlyServerURL": "https://plot.ly"
       },
       "data": [
        {
         "geo": "geo",
         "hovertemplate": "<b>%{hovertext}</b><br><br>size=%{marker.size}<br>Latitud=%{lat}<br>Longitud=%{lon}<br>GastoMensual=%{marker.color}<extra></extra>",
         "hovertext": [
          "Amsterdam",
          "Berlin",
          "Lisbon",
          "London",
          "Madrid",
          "Paris",
          "Prague",
          "Rome",
          "Stockholm",
          "Vienna"
         ],
         "lat": [
          52.36591136989227,
          52.52146160634538,
          38.72710097482563,
          51.50704515646423,
          40.41679359897762,
          48.85650860827032,
          50.0736182651883,
          41.90083384571314,
          59.329521192156264,
          48.20477621806895
         ],
         "legendgroup": "",
         "lon": [
          4.905518035292764,
          13.402401739170978,
          -9.142558729952977,
          -0.12476314606113377,
          -3.704351428919639,
          2.3547616200031176,
          14.439609156154683,
          12.495789278438957,
          18.068961168402115,
          16.372769919276067
         ],
         "marker": {
          "color": [
           4241.146818290747,
           7401.02848046957,
           5618.965527149016,
           4762.03799642135,
           9638.032378196023,
           7498.766221926219,
           6051.994838678457,
           6896.069074747562,
           7328.062402509136,
           2077.146424753482
          ],
          "coloraxis": "coloraxis",
          "size": [
           4241146.818290748,
           7401028.4804695705,
           5618965.527149016,
           4762037.99642135,
           9638032.378196023,
           7498766.221926219,
           6051994.838678457,
           6896069.0747475615,
           7328062.402509135,
           2077146.4247534818
          ],
          "sizemode": "area",
          "sizeref": 24095.08094549006,
          "symbol": "circle"
         },
         "mode": "markers",
         "name": "",
         "showlegend": false,
         "type": "scattergeo"
        }
       ],
       "layout": {
        "coloraxis": {
         "colorbar": {
          "title": {
           "text": "GastoMensual"
          }
         },
         "colorscale": [
          [
           0,
           "#00224e"
          ],
          [
           0.1111111111111111,
           "#123570"
          ],
          [
           0.2222222222222222,
           "#3b496c"
          ],
          [
           0.3333333333333333,
           "#575d6d"
          ],
          [
           0.4444444444444444,
           "#707173"
          ],
          [
           0.5555555555555556,
           "#8a8678"
          ],
          [
           0.6666666666666666,
           "#a59c74"
          ],
          [
           0.7777777777777778,
           "#c3b369"
          ],
          [
           0.8888888888888888,
           "#e1cc55"
          ],
          [
           1,
           "#fee838"
          ]
         ]
        },
        "geo": {
         "center": {},
         "domain": {
          "x": [
           0,
           1
          ],
          "y": [
           0,
           1
          ]
         },
         "projection": {
          "type": "natural earth"
         },
         "scope": "europe"
        },
        "legend": {
         "itemsizing": "constant",
         "tracegroupgap": 0
        },
        "template": {
         "data": {
          "bar": [
           {
            "error_x": {
             "color": "#2a3f5f"
            },
            "error_y": {
             "color": "#2a3f5f"
            },
            "marker": {
             "line": {
              "color": "#E5ECF6",
              "width": 0.5
             },
             "pattern": {
              "fillmode": "overlay",
              "size": 10,
              "solidity": 0.2
             }
            },
            "type": "bar"
           }
          ],
          "barpolar": [
           {
            "marker": {
             "line": {
              "color": "#E5ECF6",
              "width": 0.5
             },
             "pattern": {
              "fillmode": "overlay",
              "size": 10,
              "solidity": 0.2
             }
            },
            "type": "barpolar"
           }
          ],
          "carpet": [
           {
            "aaxis": {
             "endlinecolor": "#2a3f5f",
             "gridcolor": "white",
             "linecolor": "white",
             "minorgridcolor": "white",
             "startlinecolor": "#2a3f5f"
            },
            "baxis": {
             "endlinecolor": "#2a3f5f",
             "gridcolor": "white",
             "linecolor": "white",
             "minorgridcolor": "white",
             "startlinecolor": "#2a3f5f"
            },
            "type": "carpet"
           }
          ],
          "choropleth": [
           {
            "colorbar": {
             "outlinewidth": 0,
             "ticks": ""
            },
            "type": "choropleth"
           }
          ],
          "contour": [
           {
            "colorbar": {
             "outlinewidth": 0,
             "ticks": ""
            },
            "colorscale": [
             [
              0,
              "#0d0887"
             ],
             [
              0.1111111111111111,
              "#46039f"
             ],
             [
              0.2222222222222222,
              "#7201a8"
             ],
             [
              0.3333333333333333,
              "#9c179e"
             ],
             [
              0.4444444444444444,
              "#bd3786"
             ],
             [
              0.5555555555555556,
              "#d8576b"
             ],
             [
              0.6666666666666666,
              "#ed7953"
             ],
             [
              0.7777777777777778,
              "#fb9f3a"
             ],
             [
              0.8888888888888888,
              "#fdca26"
             ],
             [
              1,
              "#f0f921"
             ]
            ],
            "type": "contour"
           }
          ],
          "contourcarpet": [
           {
            "colorbar": {
             "outlinewidth": 0,
             "ticks": ""
            },
            "type": "contourcarpet"
           }
          ],
          "heatmap": [
           {
            "colorbar": {
             "outlinewidth": 0,
             "ticks": ""
            },
            "colorscale": [
             [
              0,
              "#0d0887"
             ],
             [
              0.1111111111111111,
              "#46039f"
             ],
             [
              0.2222222222222222,
              "#7201a8"
             ],
             [
              0.3333333333333333,
              "#9c179e"
             ],
             [
              0.4444444444444444,
              "#bd3786"
             ],
             [
              0.5555555555555556,
              "#d8576b"
             ],
             [
              0.6666666666666666,
              "#ed7953"
             ],
             [
              0.7777777777777778,
              "#fb9f3a"
             ],
             [
              0.8888888888888888,
              "#fdca26"
             ],
             [
              1,
              "#f0f921"
             ]
            ],
            "type": "heatmap"
           }
          ],
          "heatmapgl": [
           {
            "colorbar": {
             "outlinewidth": 0,
             "ticks": ""
            },
            "colorscale": [
             [
              0,
              "#0d0887"
             ],
             [
              0.1111111111111111,
              "#46039f"
             ],
             [
              0.2222222222222222,
              "#7201a8"
             ],
             [
              0.3333333333333333,
              "#9c179e"
             ],
             [
              0.4444444444444444,
              "#bd3786"
             ],
             [
              0.5555555555555556,
              "#d8576b"
             ],
             [
              0.6666666666666666,
              "#ed7953"
             ],
             [
              0.7777777777777778,
              "#fb9f3a"
             ],
             [
              0.8888888888888888,
              "#fdca26"
             ],
             [
              1,
              "#f0f921"
             ]
            ],
            "type": "heatmapgl"
           }
          ],
          "histogram": [
           {
            "marker": {
             "pattern": {
              "fillmode": "overlay",
              "size": 10,
              "solidity": 0.2
             }
            },
            "type": "histogram"
           }
          ],
          "histogram2d": [
           {
            "colorbar": {
             "outlinewidth": 0,
             "ticks": ""
            },
            "colorscale": [
             [
              0,
              "#0d0887"
             ],
             [
              0.1111111111111111,
              "#46039f"
             ],
             [
              0.2222222222222222,
              "#7201a8"
             ],
             [
              0.3333333333333333,
              "#9c179e"
             ],
             [
              0.4444444444444444,
              "#bd3786"
             ],
             [
              0.5555555555555556,
              "#d8576b"
             ],
             [
              0.6666666666666666,
              "#ed7953"
             ],
             [
              0.7777777777777778,
              "#fb9f3a"
             ],
             [
              0.8888888888888888,
              "#fdca26"
             ],
             [
              1,
              "#f0f921"
             ]
            ],
            "type": "histogram2d"
           }
          ],
          "histogram2dcontour": [
           {
            "colorbar": {
             "outlinewidth": 0,
             "ticks": ""
            },
            "colorscale": [
             [
              0,
              "#0d0887"
             ],
             [
              0.1111111111111111,
              "#46039f"
             ],
             [
              0.2222222222222222,
              "#7201a8"
             ],
             [
              0.3333333333333333,
              "#9c179e"
             ],
             [
              0.4444444444444444,
              "#bd3786"
             ],
             [
              0.5555555555555556,
              "#d8576b"
             ],
             [
              0.6666666666666666,
              "#ed7953"
             ],
             [
              0.7777777777777778,
              "#fb9f3a"
             ],
             [
              0.8888888888888888,
              "#fdca26"
             ],
             [
              1,
              "#f0f921"
             ]
            ],
            "type": "histogram2dcontour"
           }
          ],
          "mesh3d": [
           {
            "colorbar": {
             "outlinewidth": 0,
             "ticks": ""
            },
            "type": "mesh3d"
           }
          ],
          "parcoords": [
           {
            "line": {
             "colorbar": {
              "outlinewidth": 0,
              "ticks": ""
             }
            },
            "type": "parcoords"
           }
          ],
          "pie": [
           {
            "automargin": true,
            "type": "pie"
           }
          ],
          "scatter": [
           {
            "fillpattern": {
             "fillmode": "overlay",
             "size": 10,
             "solidity": 0.2
            },
            "type": "scatter"
           }
          ],
          "scatter3d": [
           {
            "line": {
             "colorbar": {
              "outlinewidth": 0,
              "ticks": ""
             }
            },
            "marker": {
             "colorbar": {
              "outlinewidth": 0,
              "ticks": ""
             }
            },
            "type": "scatter3d"
           }
          ],
          "scattercarpet": [
           {
            "marker": {
             "colorbar": {
              "outlinewidth": 0,
              "ticks": ""
             }
            },
            "type": "scattercarpet"
           }
          ],
          "scattergeo": [
           {
            "marker": {
             "colorbar": {
              "outlinewidth": 0,
              "ticks": ""
             }
            },
            "type": "scattergeo"
           }
          ],
          "scattergl": [
           {
            "marker": {
             "colorbar": {
              "outlinewidth": 0,
              "ticks": ""
             }
            },
            "type": "scattergl"
           }
          ],
          "scattermapbox": [
           {
            "marker": {
             "colorbar": {
              "outlinewidth": 0,
              "ticks": ""
             }
            },
            "type": "scattermapbox"
           }
          ],
          "scatterpolar": [
           {
            "marker": {
             "colorbar": {
              "outlinewidth": 0,
              "ticks": ""
             }
            },
            "type": "scatterpolar"
           }
          ],
          "scatterpolargl": [
           {
            "marker": {
             "colorbar": {
              "outlinewidth": 0,
              "ticks": ""
             }
            },
            "type": "scatterpolargl"
           }
          ],
          "scatterternary": [
           {
            "marker": {
             "colorbar": {
              "outlinewidth": 0,
              "ticks": ""
             }
            },
            "type": "scatterternary"
           }
          ],
          "surface": [
           {
            "colorbar": {
             "outlinewidth": 0,
             "ticks": ""
            },
            "colorscale": [
             [
              0,
              "#0d0887"
             ],
             [
              0.1111111111111111,
              "#46039f"
             ],
             [
              0.2222222222222222,
              "#7201a8"
             ],
             [
              0.3333333333333333,
              "#9c179e"
             ],
             [
              0.4444444444444444,
              "#bd3786"
             ],
             [
              0.5555555555555556,
              "#d8576b"
             ],
             [
              0.6666666666666666,
              "#ed7953"
             ],
             [
              0.7777777777777778,
              "#fb9f3a"
             ],
             [
              0.8888888888888888,
              "#fdca26"
             ],
             [
              1,
              "#f0f921"
             ]
            ],
            "type": "surface"
           }
          ],
          "table": [
           {
            "cells": {
             "fill": {
              "color": "#EBF0F8"
             },
             "line": {
              "color": "white"
             }
            },
            "header": {
             "fill": {
              "color": "#C8D4E3"
             },
             "line": {
              "color": "white"
             }
            },
            "type": "table"
           }
          ]
         },
         "layout": {
          "annotationdefaults": {
           "arrowcolor": "#2a3f5f",
           "arrowhead": 0,
           "arrowwidth": 1
          },
          "autotypenumbers": "strict",
          "coloraxis": {
           "colorbar": {
            "outlinewidth": 0,
            "ticks": ""
           }
          },
          "colorscale": {
           "diverging": [
            [
             0,
             "#8e0152"
            ],
            [
             0.1,
             "#c51b7d"
            ],
            [
             0.2,
             "#de77ae"
            ],
            [
             0.3,
             "#f1b6da"
            ],
            [
             0.4,
             "#fde0ef"
            ],
            [
             0.5,
             "#f7f7f7"
            ],
            [
             0.6,
             "#e6f5d0"
            ],
            [
             0.7,
             "#b8e186"
            ],
            [
             0.8,
             "#7fbc41"
            ],
            [
             0.9,
             "#4d9221"
            ],
            [
             1,
             "#276419"
            ]
           ],
           "sequential": [
            [
             0,
             "#0d0887"
            ],
            [
             0.1111111111111111,
             "#46039f"
            ],
            [
             0.2222222222222222,
             "#7201a8"
            ],
            [
             0.3333333333333333,
             "#9c179e"
            ],
            [
             0.4444444444444444,
             "#bd3786"
            ],
            [
             0.5555555555555556,
             "#d8576b"
            ],
            [
             0.6666666666666666,
             "#ed7953"
            ],
            [
             0.7777777777777778,
             "#fb9f3a"
            ],
            [
             0.8888888888888888,
             "#fdca26"
            ],
            [
             1,
             "#f0f921"
            ]
           ],
           "sequentialminus": [
            [
             0,
             "#0d0887"
            ],
            [
             0.1111111111111111,
             "#46039f"
            ],
            [
             0.2222222222222222,
             "#7201a8"
            ],
            [
             0.3333333333333333,
             "#9c179e"
            ],
            [
             0.4444444444444444,
             "#bd3786"
            ],
            [
             0.5555555555555556,
             "#d8576b"
            ],
            [
             0.6666666666666666,
             "#ed7953"
            ],
            [
             0.7777777777777778,
             "#fb9f3a"
            ],
            [
             0.8888888888888888,
             "#fdca26"
            ],
            [
             1,
             "#f0f921"
            ]
           ]
          },
          "colorway": [
           "#636efa",
           "#EF553B",
           "#00cc96",
           "#ab63fa",
           "#FFA15A",
           "#19d3f3",
           "#FF6692",
           "#B6E880",
           "#FF97FF",
           "#FECB52"
          ],
          "font": {
           "color": "#2a3f5f"
          },
          "geo": {
           "bgcolor": "white",
           "lakecolor": "white",
           "landcolor": "#E5ECF6",
           "showlakes": true,
           "showland": true,
           "subunitcolor": "white"
          },
          "hoverlabel": {
           "align": "left"
          },
          "hovermode": "closest",
          "mapbox": {
           "style": "light"
          },
          "paper_bgcolor": "white",
          "plot_bgcolor": "#E5ECF6",
          "polar": {
           "angularaxis": {
            "gridcolor": "white",
            "linecolor": "white",
            "ticks": ""
           },
           "bgcolor": "#E5ECF6",
           "radialaxis": {
            "gridcolor": "white",
            "linecolor": "white",
            "ticks": ""
           }
          },
          "scene": {
           "xaxis": {
            "backgroundcolor": "#E5ECF6",
            "gridcolor": "white",
            "gridwidth": 2,
            "linecolor": "white",
            "showbackground": true,
            "ticks": "",
            "zerolinecolor": "white"
           },
           "yaxis": {
            "backgroundcolor": "#E5ECF6",
            "gridcolor": "white",
            "gridwidth": 2,
            "linecolor": "white",
            "showbackground": true,
            "ticks": "",
            "zerolinecolor": "white"
           },
           "zaxis": {
            "backgroundcolor": "#E5ECF6",
            "gridcolor": "white",
            "gridwidth": 2,
            "linecolor": "white",
            "showbackground": true,
            "ticks": "",
            "zerolinecolor": "white"
           }
          },
          "shapedefaults": {
           "line": {
            "color": "#2a3f5f"
           }
          },
          "ternary": {
           "aaxis": {
            "gridcolor": "white",
            "linecolor": "white",
            "ticks": ""
           },
           "baxis": {
            "gridcolor": "white",
            "linecolor": "white",
            "ticks": ""
           },
           "bgcolor": "#E5ECF6",
           "caxis": {
            "gridcolor": "white",
            "linecolor": "white",
            "ticks": ""
           }
          },
          "title": {
           "x": 0.05
          },
          "xaxis": {
           "automargin": true,
           "gridcolor": "white",
           "linecolor": "white",
           "ticks": "",
           "title": {
            "standoff": 15
           },
           "zerolinecolor": "white",
           "zerolinewidth": 2
          },
          "yaxis": {
           "automargin": true,
           "gridcolor": "white",
           "linecolor": "white",
           "ticks": "",
           "title": {
            "standoff": 15
           },
           "zerolinecolor": "white",
           "zerolinewidth": 2
          }
         }
        },
        "title": {
         "text": "Ventas en Europa por ciudad"
        }
       }
      }
     },
     "metadata": {},
     "output_type": "display_data"
    }
   ],
   "source": [
    "fig = px.scatter_geo(df_city, lat='Latitud', lon='Longitud', color='GastoMensual', \n",
    "                     hover_name='Ubicacion', size=df_city['GastoMensual'] * 1000, projection='natural earth', scope= 'europe',\n",
    "                     color_continuous_scale=\"Cividis\",\n",
    "                     title= 'Ventas en Europa por ciudad')\n",
    "\n",
    "fig.show()"
   ]
  },
  {
   "cell_type": "code",
   "execution_count": 160,
   "metadata": {},
   "outputs": [
    {
     "name": "stderr",
     "output_type": "stream",
     "text": [
      "C:\\Users\\misla\\AppData\\Local\\Temp\\ipykernel_22816\\3829354911.py:2: FutureWarning:\n",
      "\n",
      "The default value of numeric_only in DataFrame.corr is deprecated. In a future version, it will default to False. Select only valid columns or specify the value of numeric_only to silence this warning.\n",
      "\n"
     ]
    },
    {
     "data": {
      "image/png": "[encoded data removed]",
      "text/plain": [
       "<Figure size 640x480 with 2 Axes>"
      ]
     },
     "metadata": {},
     "output_type": "display_data"
    }
   ],
   "source": [
    "# Mapa de calor de correlación\n",
    "sns.heatmap(df.corr(), annot=True);"
   ]
  },
  {
   "cell_type": "code",
   "execution_count": 205,
   "metadata": {},
   "outputs": [],
   "source": [
    "# Me quedo con las columnas que me interesan para clusterizar\n",
    "# HaComprado \n",
    "# FrecuenciaCompra \n",
    "# GastoMensual\n",
    "# TiempoEnLaPlataforma \n",
    "# NúmeroDevoluciones \n",
    "# Hour \n",
    "# Days_Since_Last_Purchase \n",
    "# Average_Days_Between_Purchases\n",
    "# Monthly_Spending_Std\n",
    "# Cancellation_Rate\n",
    "# Average_Transaction_Value\n",
    "\n",
    "df_cluster = df[['HaComprado', 'FrecuenciaCompra', 'GastoMensual', 'TiempoEnLaPlataforma', 'NúmeroDevoluciones', 'Hour', 'Days_Since_Last_Purchase', \\\n",
    "                 'Average_Days_Between_Purchases', 'Monthly_Spending_Std', 'Cancellation_Rate', 'Average_Transaction_Value']]"
   ]
  },
  {
   "cell_type": "code",
   "execution_count": 215,
   "metadata": {},
   "outputs": [
    {
     "name": "stderr",
     "output_type": "stream",
     "text": [
      "c:\\Users\\misla\\.pyenv\\pyenv-win\\versions\\3.10.2\\lib\\site-packages\\sklearn\\cluster\\_kmeans.py:870: FutureWarning:\n",
      "\n",
      "The default value of `n_init` will change from 10 to 'auto' in 1.4. Set the value of `n_init` explicitly to suppress the warning\n",
      "\n"
     ]
    },
    {
     "data": {
      "image/png": "[encoded data removed]",
      "text/plain": [
       "<Figure size 640x480 with 1 Axes>"
      ]
     },
     "metadata": {},
     "output_type": "display_data"
    }
   ],
   "source": [
    "# Clustering con KMeans con 3 clusters, luego hacer un scatter plot\n",
    "from sklearn.cluster import KMeans\n",
    "from sklearn.preprocessing import StandardScaler\n",
    "\n",
    "kmeans = KMeans(n_clusters=4)\n",
    "scaler = StandardScaler()\n",
    "\n",
    "# usamos variables numéricas\n",
    "df.select_dtypes(include='number')\n",
    "\n",
    "# Escalamos las variables numéricas\n",
    "df_cluster = scaler.fit_transform(df.select_dtypes(include='number'))\n",
    "\n",
    "# Entrenamos el modelo\n",
    "kmeans.fit(df_cluster)\n",
    "\n",
    "# Asignamos los clusters a cada cliente\n",
    "df['Cluster'] = kmeans.labels_\n",
    "\n",
    "# pca para reducir a 2 dimensiones\n",
    "from sklearn.decomposition import PCA\n",
    "\n",
    "pca = PCA(n_components=2)\n",
    "df_pca = pca.fit_transform(df_cluster)\n",
    "\n",
    "# Scatter plot con los clusters\n",
    "df_pca = pd.DataFrame(df_pca, columns=['PC1', 'PC2'])\n",
    "df_pca['Cluster'] = df['Cluster']\n",
    "\n",
    "sns.scatterplot(data=df_pca, x='PC1', y='PC2', hue='Cluster', palette='viridis');"
   ]
  },
  {
   "cell_type": "code",
   "execution_count": 216,
   "metadata": {},
   "outputs": [
    {
     "name": "stderr",
     "output_type": "stream",
     "text": [
      "C:\\Users\\misla\\AppData\\Local\\Temp\\ipykernel_22816\\1705896441.py:2: FutureWarning:\n",
      "\n",
      "The default value of numeric_only in DataFrameGroupBy.mean is deprecated. In a future version, numeric_only will default to False. Either specify numeric_only or select only columns which should be valid for the function.\n",
      "\n"
     ]
    },
    {
     "data": {
      "text/html": [
       "<div>\n",
       "<style scoped>\n",
       "    .dataframe tbody tr th:only-of-type {\n",
       "        vertical-align: middle;\n",
       "    }\n",
       "\n",
       "    .dataframe tbody tr th {\n",
       "        vertical-align: top;\n",
       "    }\n",
       "\n",
       "    .dataframe thead th {\n",
       "        text-align: right;\n",
       "    }\n",
       "</style>\n",
       "<table border=\"1\" class=\"dataframe\">\n",
       "  <thead>\n",
       "    <tr style=\"text-align: right;\">\n",
       "      <th></th>\n",
       "      <th>ClienteID</th>\n",
       "      <th>Income</th>\n",
       "      <th>HaComprado</th>\n",
       "      <th>FrecuenciaCompra</th>\n",
       "      <th>GastoMensual</th>\n",
       "      <th>Año</th>\n",
       "      <th>Edad</th>\n",
       "      <th>TiempoEnLaPlataforma</th>\n",
       "      <th>ValoracionesPromedio</th>\n",
       "      <th>NúmeroDevoluciones</th>\n",
       "      <th>Latitud</th>\n",
       "      <th>Longitud</th>\n",
       "      <th>Hour</th>\n",
       "      <th>Days_Since_Last_Purchase</th>\n",
       "      <th>Average_Days_Between_Purchases</th>\n",
       "      <th>Monthly_Spending_Std</th>\n",
       "      <th>Cancellation_Rate</th>\n",
       "      <th>Average_Transaction_Value</th>\n",
       "    </tr>\n",
       "    <tr>\n",
       "      <th>Cluster</th>\n",
       "      <th></th>\n",
       "      <th></th>\n",
       "      <th></th>\n",
       "      <th></th>\n",
       "      <th></th>\n",
       "      <th></th>\n",
       "      <th></th>\n",
       "      <th></th>\n",
       "      <th></th>\n",
       "      <th></th>\n",
       "      <th></th>\n",
       "      <th></th>\n",
       "      <th></th>\n",
       "      <th></th>\n",
       "      <th></th>\n",
       "      <th></th>\n",
       "      <th></th>\n",
       "      <th></th>\n",
       "    </tr>\n",
       "  </thead>\n",
       "  <tbody>\n",
       "    <tr>\n",
       "      <th>0</th>\n",
       "      <td>100.678571</td>\n",
       "      <td>26454.729599</td>\n",
       "      <td>1.0</td>\n",
       "      <td>3.214286</td>\n",
       "      <td>248.718923</td>\n",
       "      <td>2020.660714</td>\n",
       "      <td>40.928571</td>\n",
       "      <td>26.142857</td>\n",
       "      <td>3.359887</td>\n",
       "      <td>0.461071</td>\n",
       "      <td>44.626497</td>\n",
       "      <td>1.117173</td>\n",
       "      <td>14.339286</td>\n",
       "      <td>45.583640</td>\n",
       "      <td>50.188714</td>\n",
       "      <td>32.878530</td>\n",
       "      <td>0.265184</td>\n",
       "      <td>86.878250</td>\n",
       "    </tr>\n",
       "    <tr>\n",
       "      <th>1</th>\n",
       "      <td>108.944444</td>\n",
       "      <td>29842.636207</td>\n",
       "      <td>0.0</td>\n",
       "      <td>10.500000</td>\n",
       "      <td>312.001681</td>\n",
       "      <td>2021.166667</td>\n",
       "      <td>43.000000</td>\n",
       "      <td>29.111111</td>\n",
       "      <td>3.460412</td>\n",
       "      <td>0.193023</td>\n",
       "      <td>49.279984</td>\n",
       "      <td>5.665538</td>\n",
       "      <td>22.166667</td>\n",
       "      <td>40.271229</td>\n",
       "      <td>40.847623</td>\n",
       "      <td>93.990829</td>\n",
       "      <td>0.151194</td>\n",
       "      <td>309.751130</td>\n",
       "    </tr>\n",
       "    <tr>\n",
       "      <th>2</th>\n",
       "      <td>102.178571</td>\n",
       "      <td>32608.777510</td>\n",
       "      <td>1.0</td>\n",
       "      <td>5.142857</td>\n",
       "      <td>333.522371</td>\n",
       "      <td>2021.190476</td>\n",
       "      <td>41.964286</td>\n",
       "      <td>50.416667</td>\n",
       "      <td>3.370078</td>\n",
       "      <td>0.526633</td>\n",
       "      <td>50.040587</td>\n",
       "      <td>10.148006</td>\n",
       "      <td>16.404762</td>\n",
       "      <td>42.555571</td>\n",
       "      <td>37.316845</td>\n",
       "      <td>33.289093</td>\n",
       "      <td>0.207451</td>\n",
       "      <td>96.100503</td>\n",
       "    </tr>\n",
       "    <tr>\n",
       "      <th>3</th>\n",
       "      <td>93.285714</td>\n",
       "      <td>32839.529997</td>\n",
       "      <td>1.0</td>\n",
       "      <td>9.880952</td>\n",
       "      <td>332.216215</td>\n",
       "      <td>2020.880952</td>\n",
       "      <td>45.190476</td>\n",
       "      <td>22.428571</td>\n",
       "      <td>3.490304</td>\n",
       "      <td>0.437564</td>\n",
       "      <td>47.540301</td>\n",
       "      <td>5.013445</td>\n",
       "      <td>22.357143</td>\n",
       "      <td>55.021377</td>\n",
       "      <td>45.319587</td>\n",
       "      <td>117.302098</td>\n",
       "      <td>0.188050</td>\n",
       "      <td>69.190386</td>\n",
       "    </tr>\n",
       "  </tbody>\n",
       "</table>\n",
       "</div>"
      ],
      "text/plain": [
       "          ClienteID        Income  HaComprado  FrecuenciaCompra  GastoMensual  \\\n",
       "Cluster                                                                         \n",
       "0        100.678571  26454.729599         1.0          3.214286    248.718923   \n",
       "1        108.944444  29842.636207         0.0         10.500000    312.001681   \n",
       "2        102.178571  32608.777510         1.0          5.142857    333.522371   \n",
       "3         93.285714  32839.529997         1.0          9.880952    332.216215   \n",
       "\n",
       "                 Año       Edad  TiempoEnLaPlataforma  ValoracionesPromedio  \\\n",
       "Cluster                                                                       \n",
       "0        2020.660714  40.928571             26.142857              3.359887   \n",
       "1        2021.166667  43.000000             29.111111              3.460412   \n",
       "2        2021.190476  41.964286             50.416667              3.370078   \n",
       "3        2020.880952  45.190476             22.428571              3.490304   \n",
       "\n",
       "         NúmeroDevoluciones    Latitud   Longitud       Hour  \\\n",
       "Cluster                                                        \n",
       "0                  0.461071  44.626497   1.117173  14.339286   \n",
       "1                  0.193023  49.279984   5.665538  22.166667   \n",
       "2                  0.526633  50.040587  10.148006  16.404762   \n",
       "3                  0.437564  47.540301   5.013445  22.357143   \n",
       "\n",
       "         Days_Since_Last_Purchase  Average_Days_Between_Purchases  \\\n",
       "Cluster                                                             \n",
       "0                       45.583640                       50.188714   \n",
       "1                       40.271229                       40.847623   \n",
       "2                       42.555571                       37.316845   \n",
       "3                       55.021377                       45.319587   \n",
       "\n",
       "         Monthly_Spending_Std  Cancellation_Rate  Average_Transaction_Value  \n",
       "Cluster                                                                      \n",
       "0                   32.878530           0.265184                  86.878250  \n",
       "1                   93.990829           0.151194                 309.751130  \n",
       "2                   33.289093           0.207451                  96.100503  \n",
       "3                  117.302098           0.188050                  69.190386  "
      ]
     },
     "execution_count": 216,
     "metadata": {},
     "output_type": "execute_result"
    }
   ],
   "source": [
    "# Sacamos la media de características por cluster\n",
    "df.groupby('Cluster').mean()"
   ]
  },
  {
   "cell_type": "code",
   "execution_count": 163,
   "metadata": {},
   "outputs": [
    {
     "data": {
      "image/png": "[encoded data removed]",
      "text/plain": [
       "<Figure size 640x480 with 1 Axes>"
      ]
     },
     "metadata": {},
     "output_type": "display_data"
    }
   ],
   "source": [
    "# Top categoría de producto favorito por cluster\n",
    "df.groupby('Cluster')['CategoríaProductoFavorito'].value_counts()\n",
    "\n",
    "# Graficamos la distribución de categorías de producto favorito por cluster\n",
    "sns.countplot(data=df, x='Cluster', hue='CategoríaProductoFavorito');"
   ]
  },
  {
   "cell_type": "code",
   "execution_count": 217,
   "metadata": {},
   "outputs": [
    {
     "data": {
      "application/vnd.plotly.v1+json": {
       "config": {
        "plotlyServerURL": "https://plot.ly"
       },
       "data": [
        {
         "hovertemplate": "PC1=%{x}<br>PC2=%{y}<br>PC3=%{z}<br>Cluster=%{marker.color}<extra></extra>",
         "legendgroup": "",
         "marker": {
          "color": [
           2,
           3,
           2,
           0,
           3,
           2,
           0,
           1,
           0,
           2,
           3,
           2,
           0,
           3,
           2,
           0,
           3,
           0,
           2,
           3,
           3,
           2,
           3,
           0,
           2,
           3,
           2,
           0,
           3,
           2,
           0,
           1,
           2,
           2,
           3,
           2,
           2,
           1,
           0,
           2,
           3,
           0,
           0,
           3,
           2,
           0,
           3,
           0,
           0,
           1,
           2,
           2,
           1,
           2,
           2,
           3,
           2,
           2,
           3,
           2,
           2,
           1,
           0,
           2,
           0,
           2,
           2,
           1,
           2,
           2,
           3,
           0,
           2,
           0,
           0,
           2,
           3,
           2,
           0,
           3,
           2,
           2,
           3,
           0,
           0,
           0,
           0,
           2,
           3,
           2,
           2,
           3,
           2,
           2,
           3,
           0,
           0,
           3,
           0,
           2,
           3,
           2,
           0,
           0,
           2,
           0,
           2,
           2,
           2,
           1,
           0,
           2,
           2,
           0,
           3,
           3,
           2,
           0,
           3,
           2,
           2,
           1,
           0,
           2,
           0,
           2,
           2,
           1,
           2,
           2,
           3,
           2,
           0,
           1,
           0,
           0,
           1,
           2,
           2,
           3,
           2,
           2,
           3,
           2,
           0,
           3,
           2,
           2,
           2,
           2,
           0,
           1,
           0,
           1,
           3,
           0,
           0,
           3,
           2,
           0,
           1,
           2,
           0,
           3,
           2,
           0,
           3,
           2,
           0,
           3,
           0,
           2,
           0,
           0,
           2,
           1,
           2,
           2,
           1,
           0,
           0,
           0,
           0,
           2,
           3,
           2,
           0,
           3,
           2,
           2,
           3,
           2,
           2,
           3,
           2,
           2,
           1,
           2,
           2,
           3
          ],
          "coloraxis": "coloraxis",
          "opacity": 0.7,
          "symbol": "circle"
         },
         "mode": "markers",
         "name": "",
         "scene": "scene",
         "showlegend": false,
         "type": "scatter3d",
         "x": [
          1.0956706761488728,
          1.2899303156804875,
          0.21174087096712715,
          -3.0183854034610764,
          0.5685322840729603,
          -0.4150390690912259,
          -2.4724514358485106,
          2.5543372653014376,
          -3.364332969463118,
          1.624592837280469,
          -0.512109957426152,
          1.2013745341666786,
          -2.4116097962492953,
          -0.6942010431621821,
          0.45895130579423626,
          -1.4219935569165105,
          0.7571127549896249,
          -2.580298421739174,
          3.159004785579815,
          2.682948478890762,
          -0.807339027781015,
          1.5654294276807388,
          -0.6419417097525362,
          -1.1225178410956718,
          0.7144349067419973,
          -0.3124160907914862,
          -0.15240063922738167,
          -3.3781609848194596,
          -0.9003939423575367,
          0.7517129008500122,
          -2.1171461944733654,
          2.304507998599824,
          0.0923396302187771,
          0.09992996365169186,
          1.8206879918134748,
          0.03659550628551929,
          2.445969130870457,
          4.401701692586037,
          -2.217405970178074,
          0.09152121300728398,
          -1.6001426816378888,
          -1.906019990305011,
          -1.2646310215205472,
          -0.2938037492019982,
          0.6144147625333657,
          -2.9817111002764225,
          -1.015475825575431,
          -2.43389328298917,
          -2.167542424748508,
          1.43081755689875,
          0.6362641063242443,
          0.8522206087039285,
          1.8236747232121195,
          -0.5174989403807655,
          1.087556666844161,
          1.8939754908827375,
          0.2841865574663526,
          1.5690901256255774,
          -0.5787170408364501,
          -0.19978384137614166,
          0.823393051437177,
          1.4587684575007824,
          -2.5724392063395403,
          0.7279851867003019,
          -3.053145491689155,
          1.4918832934128086,
          1.4862654011368597,
          3.7759929615858017,
          0.295171092328446,
          -0.10027163066910055,
          0.07945498080425657,
          -2.842193984421522,
          0.5919269557978,
          -4.050057191799423,
          -2.202208907357702,
          1.032395963220014,
          0.9261248502207824,
          0.8203486539401589,
          -1.4676416594403305,
          1.9106718936540938,
          -0.62761562255841,
          1.7117199124876086,
          0.50358146169194,
          -1.969002764340315,
          -3.38964801040581,
          -1.145386599100609,
          -2.267088701052607,
          0.29176447686121415,
          1.0212867593676858,
          0.17669586951787816,
          1.3623054787975994,
          -0.9982417239067134,
          0.21989555769977234,
          1.7554312136839356,
          -0.49215999434527913,
          -2.0160271304299227,
          -2.11063290136794,
          1.3870874876752957,
          -1.4152849732149437,
          0.1409775231727363,
          0.32223651924577773,
          0.11870171570861375,
          -2.7395695256374997,
          -2.791744441135535,
          0.4168097164836646,
          -1.0933506546210445,
          2.183599925845313,
          -0.2579634289608221,
          0.013734032259567272,
          0.921779215152505,
          -3.76823806803025,
          1.3223043524949447,
          0.5692832700001617,
          -1.8906823321794457,
          0.9065992903281115,
          0.17421167431302606,
          0.3568055117620498,
          -1.8025705359402988,
          0.2874488243439723,
          0.44656622101266435,
          1.1155665418662322,
          1.4133577063213774,
          -1.343659848548252,
          0.4805649904320419,
          -2.558604561384562,
          0.28115607480709953,
          0.406429029739998,
          3.3913345778032733,
          -0.24616948225314125,
          2.2274921192296566,
          0.40423323618284573,
          0.058074079381092734,
          -1.621549836654749,
          2.3146764922502303,
          -2.3150952369781925,
          -2.193502578160269,
          1.2466563220776412,
          0.31556160903104397,
          1.8670475816646062,
          0.48817756850609373,
          0.0824620850824466,
          2.115528694922072,
          1.5983916534699782,
          0.3111515597689811,
          -2.7146906015717147,
          2.54617233339588,
          1.562891524139788,
          1.5484301237951128,
          0.6559078901991832,
          0.48528357907227554,
          -0.30770312889020257,
          4.3834039059549745,
          -1.7032363426129262,
          0.47820653788774403,
          1.2650408509818571,
          -2.36140792439815,
          -3.0195649935428825,
          -0.38079598838762846,
          0.1531768406969263,
          -1.9837445922341361,
          2.6413586780823826,
          -0.1608909333029961,
          -1.210167766044182,
          -0.9306806142210466,
          0.00887056625289654,
          -2.1875533608238555,
          0.19646146263250758,
          0.2467982208506104,
          -1.858888706436302,
          0.7250963225514007,
          -2.34403354249869,
          1.8177364755637408,
          -1.6793211324110064,
          -1.676682830162582,
          0.7592548803517304,
          2.7310261758641916,
          0.2904422455281106,
          1.4072912743413653,
          4.041013721534907,
          -1.1586244150546672,
          -1.9601545038745871,
          -1.6560302604080273,
          -3.367226115973407,
          2.153982712423205,
          1.1978059731274178,
          2.095444694522193,
          -0.9028433819899121,
          -0.07558897391181393,
          0.7062809762687412,
          1.9832301697708326,
          -0.6935433621460112,
          1.1295643021716124,
          0.5238730064955537,
          0.6735422048050356,
          0.02823255654955033,
          1.110339497767971,
          0.8207278126018511,
          -0.5796985960804004,
          2.1334903783126373,
          0.9835074042368869
         ],
         "y": [
          0.7266108729988593,
          -1.007613959657173,
          1.8074796164870075,
          -1.9673294763317488,
          -2.195971415705552,
          1.4238210770638646,
          -0.6299790142107712,
          -2.508758218986074,
          0.6394410825534897,
          1.1169819645474883,
          -2.051642958881528,
          2.817798960560672,
          -1.5959856624021622,
          -1.2892084485525126,
          1.816680221371452,
          -0.7210419657259917,
          -1.6877994036695487,
          -0.5398668119115689,
          2.061454801192378,
          -1.1407826884214516,
          -0.0380829669774695,
          0.5622315202137937,
          -3.0367308365373726,
          -0.46509529163592944,
          0.9195115277568569,
          -1.372169097415446,
          0.9486060095097689,
          -0.6175051646186546,
          -1.0868337267294887,
          1.8094448158644032,
          -1.4834087365248108,
          -3.742467801135071,
          1.3992996417456287,
          1.7256977119644603,
          -1.086575470310133,
          2.5077127999865687,
          0.595606415207759,
          -3.837387784131399,
          -0.446915722675355,
          0.6252329924424714,
          -1.5894111756136027,
          0.36904517242617624,
          -0.6521247920985792,
          -1.1806458075227169,
          1.3640363737421186,
          -0.4710424887710305,
          -2.135399549351416,
          0.7852973317499746,
          -1.1429567389876958,
          -3.0643140469766204,
          3.958664039376029,
          -0.011170500908807357,
          -1.9749951791477753,
          2.74298420952176,
          0.48646555903819266,
          -1.3660519072920692,
          1.4760756477892474,
          0.9037977022667645,
          -0.8588401430565242,
          1.8488143780462227,
          1.7147908469258366,
          -1.7006680789138893,
          0.21451371365076163,
          0.48987629872828425,
          0.500825011547517,
          2.3789925162077603,
          0.7887751144057682,
          -1.8965991256633712,
          1.7456360315276978,
          1.2599324167827044,
          -1.115051031047423,
          -0.41489257761348525,
          0.11077562174566097,
          -0.5809764373932839,
          0.31442447098891796,
          1.0703383883200195,
          -0.47583867814808606,
          1.7664937075935896,
          -0.5521567649474901,
          -1.404828540972999,
          1.9598936611565896,
          1.6814191039746258,
          -1.5421018095879997,
          0.4499425003371319,
          -0.49929833615122005,
          -1.1661170696655483,
          0.8943404676487847,
          0.408891772332095,
          -0.5133679848123724,
          3.402376087620899,
          0.6310744103397302,
          -1.9973622386279335,
          1.3788946140544738,
          0.6448409054846288,
          -1.0046950982397145,
          0.8189616583929482,
          -0.6067416141535771,
          -0.6067752844414179,
          0.5030715877238566,
          0.18260246710749892,
          -1.535131391880807,
          2.830605744555872,
          -1.077236592932058,
          -0.4252358754536217,
          1.6139102255411897,
          -0.9703343075033513,
          0.6152633195805065,
          3.008127472110633,
          0.8582635977025463,
          -2.8226676333173737,
          -1.243925300629126,
          1.4624190812044802,
          0.37847877482217385,
          0.4427441007970002,
          -1.3824817485336671,
          -0.9442494921010816,
          1.5280627159371598,
          -0.4734507160194752,
          -0.8899245862639414,
          2.022948791449935,
          1.635838037869407,
          -2.7362365970267657,
          0.14022507322574548,
          1.112999040033876,
          0.26500848428052054,
          1.6785825905581069,
          1.0927337567788358,
          -2.1174249695706857,
          2.401543965856656,
          0.510747364882103,
          -1.9647551755545767,
          1.8145397696429875,
          -1.0481791269218244,
          -2.3777490111796764,
          0.39619434490515887,
          -0.8808054311684924,
          -3.624500626117628,
          1.5019532602704453,
          1.2918664153736545,
          -1.3269762604642017,
          2.6377520213653813,
          0.21434794984806746,
          -0.1714165254983086,
          2.129968582896459,
          -0.4176338639208034,
          -1.218660159331941,
          2.5559689183279497,
          2.2768977638552754,
          -0.1316667126675856,
          2.71167947373699,
          -1.183189066631797,
          -3.3296905479543,
          1.0405687255361156,
          -1.2774826901586938,
          -0.4169982401683975,
          -0.18032373497120507,
          -1.6117156224658788,
          -1.3922806519256887,
          1.3504041964109164,
          -0.9225818158166839,
          -2.3657164645590147,
          2.440374110931661,
          -0.6309568815896082,
          -2.2822441213484863,
          1.3620083052200678,
          -0.08885838541147868,
          -2.0153637410603924,
          1.4750741026353174,
          -0.923679187354191,
          -1.6090908214476292,
          0.6728482425105651,
          0.7481560736397436,
          -1.7637416844692613,
          -0.4284451688126404,
          1.715739279980271,
          -2.079602291376754,
          2.0204018289399466,
          -0.024863311946100627,
          -3.3557833442976164,
          0.5242761947819419,
          -1.0526253222611015,
          -0.977832937541897,
          0.016892100248191374,
          1.8020650970528342,
          -0.007512543461602,
          2.1980221918191947,
          -0.9519993048127687,
          -1.6706013940859263,
          1.7258527719902685,
          1.122862981134597,
          -1.1513628051850102,
          2.3168401404504797,
          0.9505722419748293,
          -1.1003890790906137,
          1.8342112413451594,
          1.6669537177539364,
          -3.572958328899875,
          1.9253888435151356,
          0.5023582551706307,
          -0.06990988405664943
         ],
         "z": [
          0.18826019894779816,
          -1.6817578556408204,
          -1.9846970838450546,
          0.4968902912831991,
          -0.10499259418768563,
          -1.781236814280047,
          0.9166078575017403,
          -2.8824231754832663,
          -1.823613577788797,
          -0.9751958561236381,
          -0.7585303430731523,
          -1.4769682185494353,
          -0.550383982796274,
          -0.7020032929669354,
          1.051544622072772,
          -0.503306516353341,
          0.02294097378107113,
          -1.9407931038288677,
          -0.5814395406249157,
          0.24309318354486192,
          2.3122556412798283,
          1.7384789840325758,
          1.4656611131483734,
          -0.13050476266031924,
          -0.19922437977026508,
          -0.053269906808566754,
          -0.3238929820902288,
          -1.2477665286686588,
          -0.6950454564501228,
          1.2560643366072946,
          0.7493306569885482,
          -0.11031159121867677,
          0.2048394464660095,
          -2.040195850571063,
          0.3886764097584583,
          0.9953632126083877,
          0.035218637997732095,
          0.5189153664703774,
          -1.9551023503030407,
          2.364334148448537,
          0.23202501012773388,
          -2.1031254756315017,
          1.1369019879360356,
          2.761045751601394,
          -1.4725106050143142,
          -1.5113218952463052,
          1.1592029428022468,
          -0.04826372592479764,
          -2.231030973380812,
          -1.9836954341346826,
          0.7484271330018093,
          0.20341026217074193,
          -1.289041261203912,
          -1.0632902106907343,
          -0.946105170374744,
          3.930606406575574,
          0.6031924617951606,
          0.2324095712223392,
          -0.03426954328224434,
          0.1844081059456762,
          -1.9462482217041697,
          -1.1538110424789774,
          -0.44543724484388797,
          0.5724044818085712,
          -1.865230427756526,
          -0.7445629798370037,
          -0.04918083557458269,
          -1.9300633888382734,
          -1.316842757087687,
          -1.4946502940309465,
          0.4303254798731379,
          1.3511205719526127,
          -0.09278493573102864,
          -2.137308058032104,
          -1.3895814685338237,
          -0.8982471116734502,
          -0.9151401325469223,
          0.8824521882452386,
          1.7593285171850694,
          0.4177634229814648,
          -1.1783575823364973,
          -0.5452198077256577,
          -0.8698361189303535,
          -0.5284283567908058,
          0.42821541580503414,
          -0.49547978152030053,
          0.06618091324321053,
          1.671868356412528,
          0.7162596713263792,
          -0.43923658362745815,
          -2.805232627940609,
          1.0154030737251436,
          0.18663761812632226,
          -1.4386948233093448,
          1.3332973852502032,
          1.6832956878347558,
          1.001114625357761,
          -1.1133602299210517,
          -0.007144499473723144,
          -0.972199382766939,
          3.242389356634581,
          1.1447376501113253,
          0.514328840277613,
          0.9074483214194102,
          2.0261590840526438,
          -2.3477190670211874,
          -0.5670952135141638,
          -0.6369158605067645,
          -1.2665523301395556,
          0.577616704980493,
          0.24053725180994182,
          2.546784100771328,
          0.23374746763931117,
          1.8718058657623837,
          0.3384041810591043,
          2.193024986829831,
          -0.6361951714059189,
          0.7910799121895888,
          0.5695328338876262,
          -0.2474073726667526,
          0.232141539431211,
          -0.9904191999682161,
          -1.744336126100468,
          0.9033258578606781,
          -2.746664932594588,
          2.427469829171405,
          -0.9563028812177929,
          -1.8840764666205103,
          -1.0226825746068373,
          -0.06316354795798046,
          2.6354632220822802,
          2.283391426419458,
          2.5173742489719273,
          -0.8093779043989712,
          -2.3528965292508817,
          -0.9808116284951943,
          0.055147017779447055,
          1.2078789724593877,
          0.09396212148624633,
          0.8397698815026164,
          0.8688194851487763,
          -1.50264440278355,
          1.3642126058152904,
          0.1223071395465414,
          1.4280140139020483,
          1.861909645460329,
          0.1451183925023736,
          0.647088335919114,
          -0.3295307354554291,
          -0.18969648517053783,
          -0.8147084613994116,
          -1.4387058443621916,
          0.003320679574965935,
          -1.3828132101882786,
          1.2126853379560192,
          -0.8678610148044612,
          0.20587111422205173,
          -0.014244352889684182,
          0.6242622286125902,
          1.105918596740966,
          -0.47794204070755497,
          1.9483642779430834,
          1.9834919564591182,
          1.6834853803057888,
          -0.29196118509687186,
          1.694235669520421,
          0.2597522823907134,
          -0.9309591922401436,
          2.294798473907112,
          0.11325860021057196,
          1.1632130020265308,
          -0.5394710270065985,
          -2.3496706232186093,
          -0.1727913970589818,
          0.03970679928831518,
          -1.5409039200870545,
          -0.3066168169210841,
          1.5514137530508425,
          0.767480967267055,
          0.1707229428388605,
          1.3295492220678742,
          -2.0260683501624492,
          -0.04142674298832706,
          -1.0515809941153773,
          0.6549615370276066,
          -0.18307739454742866,
          -0.8074572506143758,
          0.47415363855820364,
          0.4855973711162819,
          1.7227142989928832,
          -0.02539293381242202,
          1.7428827230403945,
          -0.1238924484057848,
          1.2405546699491616,
          -0.29611169218753763,
          -0.0118162145170394,
          -0.3965831574451058,
          -0.1142152860889261,
          0.048828101001836016,
          0.4303626925230764
         ]
        }
       ],
       "layout": {
        "coloraxis": {
         "colorbar": {
          "title": {
           "text": "Cluster"
          }
         },
         "colorscale": [
          [
           0,
           "#0d0887"
          ],
          [
           0.1111111111111111,
           "#46039f"
          ],
          [
           0.2222222222222222,
           "#7201a8"
          ],
          [
           0.3333333333333333,
           "#9c179e"
          ],
          [
           0.4444444444444444,
           "#bd3786"
          ],
          [
           0.5555555555555556,
           "#d8576b"
          ],
          [
           0.6666666666666666,
           "#ed7953"
          ],
          [
           0.7777777777777778,
           "#fb9f3a"
          ],
          [
           0.8888888888888888,
           "#fdca26"
          ],
          [
           1,
           "#f0f921"
          ]
         ]
        },
        "legend": {
         "tracegroupgap": 0
        },
        "margin": {
         "t": 60
        },
        "scene": {
         "domain": {
          "x": [
           0,
           1
          ],
          "y": [
           0,
           1
          ]
         },
         "xaxis": {
          "title": {
           "text": "PC1"
          }
         },
         "yaxis": {
          "title": {
           "text": "PC2"
          }
         },
         "zaxis": {
          "title": {
           "text": "PC3"
          }
         }
        },
        "template": {
         "data": {
          "bar": [
           {
            "error_x": {
             "color": "#2a3f5f"
            },
            "error_y": {
             "color": "#2a3f5f"
            },
            "marker": {
             "line": {
              "color": "#E5ECF6",
              "width": 0.5
             },
             "pattern": {
              "fillmode": "overlay",
              "size": 10,
              "solidity": 0.2
             }
            },
            "type": "bar"
           }
          ],
          "barpolar": [
           {
            "marker": {
             "line": {
              "color": "#E5ECF6",
              "width": 0.5
             },
             "pattern": {
              "fillmode": "overlay",
              "size": 10,
              "solidity": 0.2
             }
            },
            "type": "barpolar"
           }
          ],
          "carpet": [
           {
            "aaxis": {
             "endlinecolor": "#2a3f5f",
             "gridcolor": "white",
             "linecolor": "white",
             "minorgridcolor": "white",
             "startlinecolor": "#2a3f5f"
            },
            "baxis": {
             "endlinecolor": "#2a3f5f",
             "gridcolor": "white",
             "linecolor": "white",
             "minorgridcolor": "white",
             "startlinecolor": "#2a3f5f"
            },
            "type": "carpet"
           }
          ],
          "choropleth": [
           {
            "colorbar": {
             "outlinewidth": 0,
             "ticks": ""
            },
            "type": "choropleth"
           }
          ],
          "contour": [
           {
            "colorbar": {
             "outlinewidth": 0,
             "ticks": ""
            },
            "colorscale": [
             [
              0,
              "#0d0887"
             ],
             [
              0.1111111111111111,
              "#46039f"
             ],
             [
              0.2222222222222222,
              "#7201a8"
             ],
             [
              0.3333333333333333,
              "#9c179e"
             ],
             [
              0.4444444444444444,
              "#bd3786"
             ],
             [
              0.5555555555555556,
              "#d8576b"
             ],
             [
              0.6666666666666666,
              "#ed7953"
             ],
             [
              0.7777777777777778,
              "#fb9f3a"
             ],
             [
              0.8888888888888888,
              "#fdca26"
             ],
             [
              1,
              "#f0f921"
             ]
            ],
            "type": "contour"
           }
          ],
          "contourcarpet": [
           {
            "colorbar": {
             "outlinewidth": 0,
             "ticks": ""
            },
            "type": "contourcarpet"
           }
          ],
          "heatmap": [
           {
            "colorbar": {
             "outlinewidth": 0,
             "ticks": ""
            },
            "colorscale": [
             [
              0,
              "#0d0887"
             ],
             [
              0.1111111111111111,
              "#46039f"
             ],
             [
              0.2222222222222222,
              "#7201a8"
             ],
             [
              0.3333333333333333,
              "#9c179e"
             ],
             [
              0.4444444444444444,
              "#bd3786"
             ],
             [
              0.5555555555555556,
              "#d8576b"
             ],
             [
              0.6666666666666666,
              "#ed7953"
             ],
             [
              0.7777777777777778,
              "#fb9f3a"
             ],
             [
              0.8888888888888888,
              "#fdca26"
             ],
             [
              1,
              "#f0f921"
             ]
            ],
            "type": "heatmap"
           }
          ],
          "heatmapgl": [
           {
            "colorbar": {
             "outlinewidth": 0,
             "ticks": ""
            },
            "colorscale": [
             [
              0,
              "#0d0887"
             ],
             [
              0.1111111111111111,
              "#46039f"
             ],
             [
              0.2222222222222222,
              "#7201a8"
             ],
             [
              0.3333333333333333,
              "#9c179e"
             ],
             [
              0.4444444444444444,
              "#bd3786"
             ],
             [
              0.5555555555555556,
              "#d8576b"
             ],
             [
              0.6666666666666666,
              "#ed7953"
             ],
             [
              0.7777777777777778,
              "#fb9f3a"
             ],
             [
              0.8888888888888888,
              "#fdca26"
             ],
             [
              1,
              "#f0f921"
             ]
            ],
            "type": "heatmapgl"
           }
          ],
          "histogram": [
           {
            "marker": {
             "pattern": {
              "fillmode": "overlay",
              "size": 10,
              "solidity": 0.2
             }
            },
            "type": "histogram"
           }
          ],
          "histogram2d": [
           {
            "colorbar": {
             "outlinewidth": 0,
             "ticks": ""
            },
            "colorscale": [
             [
              0,
              "#0d0887"
             ],
             [
              0.1111111111111111,
              "#46039f"
             ],
             [
              0.2222222222222222,
              "#7201a8"
             ],
             [
              0.3333333333333333,
              "#9c179e"
             ],
             [
              0.4444444444444444,
              "#bd3786"
             ],
             [
              0.5555555555555556,
              "#d8576b"
             ],
             [
              0.6666666666666666,
              "#ed7953"
             ],
             [
              0.7777777777777778,
              "#fb9f3a"
             ],
             [
              0.8888888888888888,
              "#fdca26"
             ],
             [
              1,
              "#f0f921"
             ]
            ],
            "type": "histogram2d"
           }
          ],
          "histogram2dcontour": [
           {
            "colorbar": {
             "outlinewidth": 0,
             "ticks": ""
            },
            "colorscale": [
             [
              0,
              "#0d0887"
             ],
             [
              0.1111111111111111,
              "#46039f"
             ],
             [
              0.2222222222222222,
              "#7201a8"
             ],
             [
              0.3333333333333333,
              "#9c179e"
             ],
             [
              0.4444444444444444,
              "#bd3786"
             ],
             [
              0.5555555555555556,
              "#d8576b"
             ],
             [
              0.6666666666666666,
              "#ed7953"
             ],
             [
              0.7777777777777778,
              "#fb9f3a"
             ],
             [
              0.8888888888888888,
              "#fdca26"
             ],
             [
              1,
              "#f0f921"
             ]
            ],
            "type": "histogram2dcontour"
           }
          ],
          "mesh3d": [
           {
            "colorbar": {
             "outlinewidth": 0,
             "ticks": ""
            },
            "type": "mesh3d"
           }
          ],
          "parcoords": [
           {
            "line": {
             "colorbar": {
              "outlinewidth": 0,
              "ticks": ""
             }
            },
            "type": "parcoords"
           }
          ],
          "pie": [
           {
            "automargin": true,
            "type": "pie"
           }
          ],
          "scatter": [
           {
            "fillpattern": {
             "fillmode": "overlay",
             "size": 10,
             "solidity": 0.2
            },
            "type": "scatter"
           }
          ],
          "scatter3d": [
           {
            "line": {
             "colorbar": {
              "outlinewidth": 0,
              "ticks": ""
             }
            },
            "marker": {
             "colorbar": {
              "outlinewidth": 0,
              "ticks": ""
             }
            },
            "type": "scatter3d"
           }
          ],
          "scattercarpet": [
           {
            "marker": {
             "colorbar": {
              "outlinewidth": 0,
              "ticks": ""
             }
            },
            "type": "scattercarpet"
           }
          ],
          "scattergeo": [
           {
            "marker": {
             "colorbar": {
              "outlinewidth": 0,
              "ticks": ""
             }
            },
            "type": "scattergeo"
           }
          ],
          "scattergl": [
           {
            "marker": {
             "colorbar": {
              "outlinewidth": 0,
              "ticks": ""
             }
            },
            "type": "scattergl"
           }
          ],
          "scattermapbox": [
           {
            "marker": {
             "colorbar": {
              "outlinewidth": 0,
              "ticks": ""
             }
            },
            "type": "scattermapbox"
           }
          ],
          "scatterpolar": [
           {
            "marker": {
             "colorbar": {
              "outlinewidth": 0,
              "ticks": ""
             }
            },
            "type": "scatterpolar"
           }
          ],
          "scatterpolargl": [
           {
            "marker": {
             "colorbar": {
              "outlinewidth": 0,
              "ticks": ""
             }
            },
            "type": "scatterpolargl"
           }
          ],
          "scatterternary": [
           {
            "marker": {
             "colorbar": {
              "outlinewidth": 0,
              "ticks": ""
             }
            },
            "type": "scatterternary"
           }
          ],
          "surface": [
           {
            "colorbar": {
             "outlinewidth": 0,
             "ticks": ""
            },
            "colorscale": [
             [
              0,
              "#0d0887"
             ],
             [
              0.1111111111111111,
              "#46039f"
             ],
             [
              0.2222222222222222,
              "#7201a8"
             ],
             [
              0.3333333333333333,
              "#9c179e"
             ],
             [
              0.4444444444444444,
              "#bd3786"
             ],
             [
              0.5555555555555556,
              "#d8576b"
             ],
             [
              0.6666666666666666,
              "#ed7953"
             ],
             [
              0.7777777777777778,
              "#fb9f3a"
             ],
             [
              0.8888888888888888,
              "#fdca26"
             ],
             [
              1,
              "#f0f921"
             ]
            ],
            "type": "surface"
           }
          ],
          "table": [
           {
            "cells": {
             "fill": {
              "color": "#EBF0F8"
             },
             "line": {
              "color": "white"
             }
            },
            "header": {
             "fill": {
              "color": "#C8D4E3"
             },
             "line": {
              "color": "white"
             }
            },
            "type": "table"
           }
          ]
         },
         "layout": {
          "annotationdefaults": {
           "arrowcolor": "#2a3f5f",
           "arrowhead": 0,
           "arrowwidth": 1
          },
          "autotypenumbers": "strict",
          "coloraxis": {
           "colorbar": {
            "outlinewidth": 0,
            "ticks": ""
           }
          },
          "colorscale": {
           "diverging": [
            [
             0,
             "#8e0152"
            ],
            [
             0.1,
             "#c51b7d"
            ],
            [
             0.2,
             "#de77ae"
            ],
            [
             0.3,
             "#f1b6da"
            ],
            [
             0.4,
             "#fde0ef"
            ],
            [
             0.5,
             "#f7f7f7"
            ],
            [
             0.6,
             "#e6f5d0"
            ],
            [
             0.7,
             "#b8e186"
            ],
            [
             0.8,
             "#7fbc41"
            ],
            [
             0.9,
             "#4d9221"
            ],
            [
             1,
             "#276419"
            ]
           ],
           "sequential": [
            [
             0,
             "#0d0887"
            ],
            [
             0.1111111111111111,
             "#46039f"
            ],
            [
             0.2222222222222222,
             "#7201a8"
            ],
            [
             0.3333333333333333,
             "#9c179e"
            ],
            [
             0.4444444444444444,
             "#bd3786"
            ],
            [
             0.5555555555555556,
             "#d8576b"
            ],
            [
             0.6666666666666666,
             "#ed7953"
            ],
            [
             0.7777777777777778,
             "#fb9f3a"
            ],
            [
             0.8888888888888888,
             "#fdca26"
            ],
            [
             1,
             "#f0f921"
            ]
           ],
           "sequentialminus": [
            [
             0,
             "#0d0887"
            ],
            [
             0.1111111111111111,
             "#46039f"
            ],
            [
             0.2222222222222222,
             "#7201a8"
            ],
            [
             0.3333333333333333,
             "#9c179e"
            ],
            [
             0.4444444444444444,
             "#bd3786"
            ],
            [
             0.5555555555555556,
             "#d8576b"
            ],
            [
             0.6666666666666666,
             "#ed7953"
            ],
            [
             0.7777777777777778,
             "#fb9f3a"
            ],
            [
             0.8888888888888888,
             "#fdca26"
            ],
            [
             1,
             "#f0f921"
            ]
           ]
          },
          "colorway": [
           "#636efa",
           "#EF553B",
           "#00cc96",
           "#ab63fa",
           "#FFA15A",
           "#19d3f3",
           "#FF6692",
           "#B6E880",
           "#FF97FF",
           "#FECB52"
          ],
          "font": {
           "color": "#2a3f5f"
          },
          "geo": {
           "bgcolor": "white",
           "lakecolor": "white",
           "landcolor": "#E5ECF6",
           "showlakes": true,
           "showland": true,
           "subunitcolor": "white"
          },
          "hoverlabel": {
           "align": "left"
          },
          "hovermode": "closest",
          "mapbox": {
           "style": "light"
          },
          "paper_bgcolor": "white",
          "plot_bgcolor": "#E5ECF6",
          "polar": {
           "angularaxis": {
            "gridcolor": "white",
            "linecolor": "white",
            "ticks": ""
           },
           "bgcolor": "#E5ECF6",
           "radialaxis": {
            "gridcolor": "white",
            "linecolor": "white",
            "ticks": ""
           }
          },
          "scene": {
           "xaxis": {
            "backgroundcolor": "#E5ECF6",
            "gridcolor": "white",
            "gridwidth": 2,
            "linecolor": "white",
            "showbackground": true,
            "ticks": "",
            "zerolinecolor": "white"
           },
           "yaxis": {
            "backgroundcolor": "#E5ECF6",
            "gridcolor": "white",
            "gridwidth": 2,
            "linecolor": "white",
            "showbackground": true,
            "ticks": "",
            "zerolinecolor": "white"
           },
           "zaxis": {
            "backgroundcolor": "#E5ECF6",
            "gridcolor": "white",
            "gridwidth": 2,
            "linecolor": "white",
            "showbackground": true,
            "ticks": "",
            "zerolinecolor": "white"
           }
          },
          "shapedefaults": {
           "line": {
            "color": "#2a3f5f"
           }
          },
          "ternary": {
           "aaxis": {
            "gridcolor": "white",
            "linecolor": "white",
            "ticks": ""
           },
           "baxis": {
            "gridcolor": "white",
            "linecolor": "white",
            "ticks": ""
           },
           "bgcolor": "#E5ECF6",
           "caxis": {
            "gridcolor": "white",
            "linecolor": "white",
            "ticks": ""
           }
          },
          "title": {
           "x": 0.05
          },
          "xaxis": {
           "automargin": true,
           "gridcolor": "white",
           "linecolor": "white",
           "ticks": "",
           "title": {
            "standoff": 15
           },
           "zerolinecolor": "white",
           "zerolinewidth": 2
          },
          "yaxis": {
           "automargin": true,
           "gridcolor": "white",
           "linecolor": "white",
           "ticks": "",
           "title": {
            "standoff": 15
           },
           "zerolinecolor": "white",
           "zerolinewidth": 2
          }
         }
        }
       }
      }
     },
     "metadata": {},
     "output_type": "display_data"
    }
   ],
   "source": [
    "# Visualizacion 3d de los clusters con 3 componentes principales\n",
    "pca = PCA(n_components=3)\n",
    "\n",
    "df_pca = pca.fit_transform(df_cluster)\n",
    "\n",
    "df_pca = pd.DataFrame(df_pca, columns=['PC1', 'PC2', 'PC3'])\n",
    "df_pca['Cluster'] = df['Cluster']\n",
    "\n",
    "fig = px.scatter_3d(df_pca, x='PC1', y='PC2', z='PC3', color='Cluster', opacity=0.7)\n",
    "fig.show()"
   ]
  },
  {
   "cell_type": "markdown",
   "metadata": {},
   "source": [
    "* Ha comprado\n",
    "* Frecuencia compra\n",
    "* Gasto mensual\n",
    "* Tiempo en la plataforma - Esto lo asumimos como tiempo dado de alta en la plataforma\n",
    "* Número devoluciones\n",
    "* Hour\n",
    "* Days_Since_Last_Purchase\n",
    "* Average_Days_Between_Purchases\n",
    "* Desviación Monthly Spending\n",
    "* Cancellation Rate\n",
    "* Average Transaction Value"
   ]
  },
  {
   "cell_type": "code",
   "execution_count": 165,
   "metadata": {},
   "outputs": [
    {
     "data": {
      "image/png": "[encoded data removed]",
      "text/plain": [
       "<Figure size 640x480 with 1 Axes>"
      ]
     },
     "metadata": {},
     "output_type": "display_data"
    }
   ],
   "source": [
    "# Crear countplot de si ha comprado o no por cluster\n",
    "sns.countplot(data=df, x='Cluster', hue='HaComprado');\n"
   ]
  },
  {
   "cell_type": "code",
   "execution_count": 166,
   "metadata": {},
   "outputs": [
    {
     "data": {
      "image/png": "[encoded data removed]",
      "text/plain": [
       "<Figure size 640x480 with 1 Axes>"
      ]
     },
     "metadata": {},
     "output_type": "display_data"
    }
   ],
   "source": [
    "# Crear grafica de distribucion de frecuencia sin histograma de Frecuencia de Compra por cluster\n",
    "\n",
    "sns.histplot(data=df, x='FrecuenciaCompra', hue='Cluster', element='step', kde=True);"
   ]
  },
  {
   "cell_type": "code",
   "execution_count": 167,
   "metadata": {},
   "outputs": [
    {
     "data": {
      "image/png": "[encoded data removed]",
      "text/plain": [
       "<Figure size 640x480 with 1 Axes>"
      ]
     },
     "metadata": {},
     "output_type": "display_data"
    }
   ],
   "source": [
    "# Crear grafica de distribucion de frecuencia sin histograma de gastomensual por cluster\n",
    "sns.histplot(data=df, x='GastoMensual', hue='Cluster', element='step', kde=True);"
   ]
  },
  {
   "cell_type": "code",
   "execution_count": 168,
   "metadata": {},
   "outputs": [
    {
     "data": {
      "image/png": "[encoded data removed]",
      "text/plain": [
       "<Figure size 640x480 with 1 Axes>"
      ]
     },
     "metadata": {},
     "output_type": "display_data"
    }
   ],
   "source": [
    "# Crear grafica de distribucion de frecuencia sin histograma de tiempo en la plataforma por cluster\n",
    "\n",
    "sns.histplot(data=df, x='TiempoEnLaPlataforma', hue='Cluster', element='step', kde=True);"
   ]
  },
  {
   "cell_type": "code",
   "execution_count": 169,
   "metadata": {},
   "outputs": [
    {
     "data": {
      "image/png": "[encoded data removed]",
      "text/plain": [
       "<Figure size 640x480 with 1 Axes>"
      ]
     },
     "metadata": {},
     "output_type": "display_data"
    }
   ],
   "source": [
    "# Value counts de hour por cluster\n",
    "\n",
    "df['Hour'].value_counts()\n",
    "\n",
    "df.groupby('Cluster')['Hour'].value_counts()\n",
    "\n",
    "# Crear countplot de hora por cluster\n",
    "sns.countplot(data=df, x='Cluster', hue='Hour');"
   ]
  },
  {
   "cell_type": "code",
   "execution_count": 170,
   "metadata": {},
   "outputs": [
    {
     "ename": "ValueError",
     "evalue": "Could not interpret value `DaysLastPurchase` for parameter `x`",
     "output_type": "error",
     "traceback": [
      "\u001b[1;31m---------------------------------------------------------------------------\u001b[0m",
      "\u001b[1;31mValueError\u001b[0m                                Traceback (most recent call last)",
      "Cell \u001b[1;32mIn[170], line 2\u001b[0m\n\u001b[0;32m      1\u001b[0m \u001b[38;5;66;03m# Graficar la distribución de dayslastpurchase por cluster\u001b[39;00m\n\u001b[1;32m----> 2\u001b[0m \u001b[43msns\u001b[49m\u001b[38;5;241;43m.\u001b[39;49m\u001b[43mhistplot\u001b[49m\u001b[43m(\u001b[49m\u001b[43mdata\u001b[49m\u001b[38;5;241;43m=\u001b[39;49m\u001b[43mdf\u001b[49m\u001b[43m,\u001b[49m\u001b[43m \u001b[49m\u001b[43mx\u001b[49m\u001b[38;5;241;43m=\u001b[39;49m\u001b[38;5;124;43m'\u001b[39;49m\u001b[38;5;124;43mDaysLastPurchase\u001b[39;49m\u001b[38;5;124;43m'\u001b[39;49m\u001b[43m,\u001b[49m\u001b[43m \u001b[49m\u001b[43mhue\u001b[49m\u001b[38;5;241;43m=\u001b[39;49m\u001b[38;5;124;43m'\u001b[39;49m\u001b[38;5;124;43mCluster\u001b[39;49m\u001b[38;5;124;43m'\u001b[39;49m\u001b[43m,\u001b[49m\u001b[43m \u001b[49m\u001b[43melement\u001b[49m\u001b[38;5;241;43m=\u001b[39;49m\u001b[38;5;124;43m'\u001b[39;49m\u001b[38;5;124;43mstep\u001b[39;49m\u001b[38;5;124;43m'\u001b[39;49m\u001b[43m,\u001b[49m\u001b[43m \u001b[49m\u001b[43mkde\u001b[49m\u001b[38;5;241;43m=\u001b[39;49m\u001b[38;5;28;43;01mTrue\u001b[39;49;00m\u001b[43m)\u001b[49m;\n\u001b[0;32m      4\u001b[0m \u001b[38;5;66;03m# Graficar la distribución de dayslastpurchase por cluster\u001b[39;00m\n\u001b[0;32m      5\u001b[0m sns\u001b[38;5;241m.\u001b[39mhistplot(data\u001b[38;5;241m=\u001b[39mdf, x\u001b[38;5;241m=\u001b[39m\u001b[38;5;124m'\u001b[39m\u001b[38;5;124mDaysLastPurchase\u001b[39m\u001b[38;5;124m'\u001b[39m, hue\u001b[38;5;241m=\u001b[39m\u001b[38;5;124m'\u001b[39m\u001b[38;5;124mCluster\u001b[39m\u001b[38;5;124m'\u001b[39m, element\u001b[38;5;241m=\u001b[39m\u001b[38;5;124m'\u001b[39m\u001b[38;5;124mstep\u001b[39m\u001b[38;5;124m'\u001b[39m, kde\u001b[38;5;241m=\u001b[39m\u001b[38;5;28;01mTrue\u001b[39;00m);\n",
      "File \u001b[1;32mc:\\Users\\misla\\.pyenv\\pyenv-win\\versions\\3.10.2\\lib\\site-packages\\seaborn\\distributions.py:1395\u001b[0m, in \u001b[0;36mhistplot\u001b[1;34m(data, x, y, hue, weights, stat, bins, binwidth, binrange, discrete, cumulative, common_bins, common_norm, multiple, element, fill, shrink, kde, kde_kws, line_kws, thresh, pthresh, pmax, cbar, cbar_ax, cbar_kws, palette, hue_order, hue_norm, color, log_scale, legend, ax, **kwargs)\u001b[0m\n\u001b[0;32m   1374\u001b[0m \u001b[38;5;28;01mdef\u001b[39;00m \u001b[38;5;21mhistplot\u001b[39m(\n\u001b[0;32m   1375\u001b[0m     data\u001b[38;5;241m=\u001b[39m\u001b[38;5;28;01mNone\u001b[39;00m, \u001b[38;5;241m*\u001b[39m,\n\u001b[0;32m   1376\u001b[0m     \u001b[38;5;66;03m# Vector variables\u001b[39;00m\n\u001b[1;32m   (...)\u001b[0m\n\u001b[0;32m   1392\u001b[0m     \u001b[38;5;241m*\u001b[39m\u001b[38;5;241m*\u001b[39mkwargs,\n\u001b[0;32m   1393\u001b[0m ):\n\u001b[1;32m-> 1395\u001b[0m     p \u001b[38;5;241m=\u001b[39m \u001b[43m_DistributionPlotter\u001b[49m\u001b[43m(\u001b[49m\n\u001b[0;32m   1396\u001b[0m \u001b[43m        \u001b[49m\u001b[43mdata\u001b[49m\u001b[38;5;241;43m=\u001b[39;49m\u001b[43mdata\u001b[49m\u001b[43m,\u001b[49m\n\u001b[0;32m   1397\u001b[0m \u001b[43m        \u001b[49m\u001b[43mvariables\u001b[49m\u001b[38;5;241;43m=\u001b[39;49m\u001b[43m_DistributionPlotter\u001b[49m\u001b[38;5;241;43m.\u001b[39;49m\u001b[43mget_semantics\u001b[49m\u001b[43m(\u001b[49m\u001b[38;5;28;43mlocals\u001b[39;49m\u001b[43m(\u001b[49m\u001b[43m)\u001b[49m\u001b[43m)\u001b[49m\n\u001b[0;32m   1398\u001b[0m \u001b[43m    \u001b[49m\u001b[43m)\u001b[49m\n\u001b[0;32m   1400\u001b[0m     p\u001b[38;5;241m.\u001b[39mmap_hue(palette\u001b[38;5;241m=\u001b[39mpalette, order\u001b[38;5;241m=\u001b[39mhue_order, norm\u001b[38;5;241m=\u001b[39mhue_norm)\n\u001b[0;32m   1402\u001b[0m     \u001b[38;5;28;01mif\u001b[39;00m ax \u001b[38;5;129;01mis\u001b[39;00m \u001b[38;5;28;01mNone\u001b[39;00m:\n",
      "File \u001b[1;32mc:\\Users\\misla\\.pyenv\\pyenv-win\\versions\\3.10.2\\lib\\site-packages\\seaborn\\distributions.py:113\u001b[0m, in \u001b[0;36m_DistributionPlotter.__init__\u001b[1;34m(self, data, variables)\u001b[0m\n\u001b[0;32m    107\u001b[0m \u001b[38;5;28;01mdef\u001b[39;00m \u001b[38;5;21m__init__\u001b[39m(\n\u001b[0;32m    108\u001b[0m     \u001b[38;5;28mself\u001b[39m,\n\u001b[0;32m    109\u001b[0m     data\u001b[38;5;241m=\u001b[39m\u001b[38;5;28;01mNone\u001b[39;00m,\n\u001b[0;32m    110\u001b[0m     variables\u001b[38;5;241m=\u001b[39m{},\n\u001b[0;32m    111\u001b[0m ):\n\u001b[1;32m--> 113\u001b[0m     \u001b[38;5;28;43msuper\u001b[39;49m\u001b[43m(\u001b[49m\u001b[43m)\u001b[49m\u001b[38;5;241;43m.\u001b[39;49m\u001b[38;5;21;43m__init__\u001b[39;49m\u001b[43m(\u001b[49m\u001b[43mdata\u001b[49m\u001b[38;5;241;43m=\u001b[39;49m\u001b[43mdata\u001b[49m\u001b[43m,\u001b[49m\u001b[43m \u001b[49m\u001b[43mvariables\u001b[49m\u001b[38;5;241;43m=\u001b[39;49m\u001b[43mvariables\u001b[49m\u001b[43m)\u001b[49m\n",
      "File \u001b[1;32mc:\\Users\\misla\\.pyenv\\pyenv-win\\versions\\3.10.2\\lib\\site-packages\\seaborn\\_oldcore.py:640\u001b[0m, in \u001b[0;36mVectorPlotter.__init__\u001b[1;34m(self, data, variables)\u001b[0m\n\u001b[0;32m    635\u001b[0m \u001b[38;5;66;03m# var_ordered is relevant only for categorical axis variables, and may\u001b[39;00m\n\u001b[0;32m    636\u001b[0m \u001b[38;5;66;03m# be better handled by an internal axis information object that tracks\u001b[39;00m\n\u001b[0;32m    637\u001b[0m \u001b[38;5;66;03m# such information and is set up by the scale_* methods. The analogous\u001b[39;00m\n\u001b[0;32m    638\u001b[0m \u001b[38;5;66;03m# information for numeric axes would be information about log scales.\u001b[39;00m\n\u001b[0;32m    639\u001b[0m \u001b[38;5;28mself\u001b[39m\u001b[38;5;241m.\u001b[39m_var_ordered \u001b[38;5;241m=\u001b[39m {\u001b[38;5;124m\"\u001b[39m\u001b[38;5;124mx\u001b[39m\u001b[38;5;124m\"\u001b[39m: \u001b[38;5;28;01mFalse\u001b[39;00m, \u001b[38;5;124m\"\u001b[39m\u001b[38;5;124my\u001b[39m\u001b[38;5;124m\"\u001b[39m: \u001b[38;5;28;01mFalse\u001b[39;00m}  \u001b[38;5;66;03m# alt., used DefaultDict\u001b[39;00m\n\u001b[1;32m--> 640\u001b[0m \u001b[38;5;28;43mself\u001b[39;49m\u001b[38;5;241;43m.\u001b[39;49m\u001b[43massign_variables\u001b[49m\u001b[43m(\u001b[49m\u001b[43mdata\u001b[49m\u001b[43m,\u001b[49m\u001b[43m \u001b[49m\u001b[43mvariables\u001b[49m\u001b[43m)\u001b[49m\n\u001b[0;32m    642\u001b[0m \u001b[38;5;28;01mfor\u001b[39;00m var, \u001b[38;5;28mcls\u001b[39m \u001b[38;5;129;01min\u001b[39;00m \u001b[38;5;28mself\u001b[39m\u001b[38;5;241m.\u001b[39m_semantic_mappings\u001b[38;5;241m.\u001b[39mitems():\n\u001b[0;32m    643\u001b[0m \n\u001b[0;32m    644\u001b[0m     \u001b[38;5;66;03m# Create the mapping function\u001b[39;00m\n\u001b[0;32m    645\u001b[0m     map_func \u001b[38;5;241m=\u001b[39m partial(\u001b[38;5;28mcls\u001b[39m\u001b[38;5;241m.\u001b[39mmap, plotter\u001b[38;5;241m=\u001b[39m\u001b[38;5;28mself\u001b[39m)\n",
      "File \u001b[1;32mc:\\Users\\misla\\.pyenv\\pyenv-win\\versions\\3.10.2\\lib\\site-packages\\seaborn\\_oldcore.py:701\u001b[0m, in \u001b[0;36mVectorPlotter.assign_variables\u001b[1;34m(self, data, variables)\u001b[0m\n\u001b[0;32m    699\u001b[0m \u001b[38;5;28;01melse\u001b[39;00m:\n\u001b[0;32m    700\u001b[0m     \u001b[38;5;28mself\u001b[39m\u001b[38;5;241m.\u001b[39minput_format \u001b[38;5;241m=\u001b[39m \u001b[38;5;124m\"\u001b[39m\u001b[38;5;124mlong\u001b[39m\u001b[38;5;124m\"\u001b[39m\n\u001b[1;32m--> 701\u001b[0m     plot_data, variables \u001b[38;5;241m=\u001b[39m \u001b[38;5;28mself\u001b[39m\u001b[38;5;241m.\u001b[39m_assign_variables_longform(\n\u001b[0;32m    702\u001b[0m         data, \u001b[38;5;241m*\u001b[39m\u001b[38;5;241m*\u001b[39mvariables,\n\u001b[0;32m    703\u001b[0m     )\n\u001b[0;32m    705\u001b[0m \u001b[38;5;28mself\u001b[39m\u001b[38;5;241m.\u001b[39mplot_data \u001b[38;5;241m=\u001b[39m plot_data\n\u001b[0;32m    706\u001b[0m \u001b[38;5;28mself\u001b[39m\u001b[38;5;241m.\u001b[39mvariables \u001b[38;5;241m=\u001b[39m variables\n",
      "File \u001b[1;32mc:\\Users\\misla\\.pyenv\\pyenv-win\\versions\\3.10.2\\lib\\site-packages\\seaborn\\_oldcore.py:938\u001b[0m, in \u001b[0;36mVectorPlotter._assign_variables_longform\u001b[1;34m(self, data, **kwargs)\u001b[0m\n\u001b[0;32m    933\u001b[0m \u001b[38;5;28;01melif\u001b[39;00m \u001b[38;5;28misinstance\u001b[39m(val, (\u001b[38;5;28mstr\u001b[39m, \u001b[38;5;28mbytes\u001b[39m)):\n\u001b[0;32m    934\u001b[0m \n\u001b[0;32m    935\u001b[0m     \u001b[38;5;66;03m# This looks like a column name but we don't know what it means!\u001b[39;00m\n\u001b[0;32m    937\u001b[0m     err \u001b[38;5;241m=\u001b[39m \u001b[38;5;124mf\u001b[39m\u001b[38;5;124m\"\u001b[39m\u001b[38;5;124mCould not interpret value `\u001b[39m\u001b[38;5;132;01m{\u001b[39;00mval\u001b[38;5;132;01m}\u001b[39;00m\u001b[38;5;124m` for parameter `\u001b[39m\u001b[38;5;132;01m{\u001b[39;00mkey\u001b[38;5;132;01m}\u001b[39;00m\u001b[38;5;124m`\u001b[39m\u001b[38;5;124m\"\u001b[39m\n\u001b[1;32m--> 938\u001b[0m     \u001b[38;5;28;01mraise\u001b[39;00m \u001b[38;5;167;01mValueError\u001b[39;00m(err)\n\u001b[0;32m    940\u001b[0m \u001b[38;5;28;01melse\u001b[39;00m:\n\u001b[0;32m    941\u001b[0m \n\u001b[0;32m    942\u001b[0m     \u001b[38;5;66;03m# Otherwise, assume the value is itself data\u001b[39;00m\n\u001b[0;32m    943\u001b[0m \n\u001b[0;32m    944\u001b[0m     \u001b[38;5;66;03m# Raise when data object is present and a vector can't matched\u001b[39;00m\n\u001b[0;32m    945\u001b[0m     \u001b[38;5;28;01mif\u001b[39;00m \u001b[38;5;28misinstance\u001b[39m(data, pd\u001b[38;5;241m.\u001b[39mDataFrame) \u001b[38;5;129;01mand\u001b[39;00m \u001b[38;5;129;01mnot\u001b[39;00m \u001b[38;5;28misinstance\u001b[39m(val, pd\u001b[38;5;241m.\u001b[39mSeries):\n",
      "\u001b[1;31mValueError\u001b[0m: Could not interpret value `DaysLastPurchase` for parameter `x`"
     ]
    }
   ],
   "source": [
    "# Graficar la distribución de dayslastpurchase por cluster\n",
    "sns.histplot(data=df, x='DaysLastPurchase', hue='Cluster', element='step', kde=True);\n",
    "\n",
    "# Graficar la distribución de dayslastpurchase por cluster\n",
    "sns.histplot(data=df, x='DaysLastPurchase', hue='Cluster', element='step', kde=True);"
   ]
  },
  {
   "cell_type": "code",
   "execution_count": 218,
   "metadata": {},
   "outputs": [
    {
     "name": "stderr",
     "output_type": "stream",
     "text": [
      "c:\\Users\\misla\\.pyenv\\pyenv-win\\versions\\3.10.2\\lib\\site-packages\\sklearn\\cluster\\_kmeans.py:870: FutureWarning:\n",
      "\n",
      "The default value of `n_init` will change from 10 to 'auto' in 1.4. Set the value of `n_init` explicitly to suppress the warning\n",
      "\n",
      "c:\\Users\\misla\\.pyenv\\pyenv-win\\versions\\3.10.2\\lib\\site-packages\\sklearn\\cluster\\_kmeans.py:870: FutureWarning:\n",
      "\n",
      "The default value of `n_init` will change from 10 to 'auto' in 1.4. Set the value of `n_init` explicitly to suppress the warning\n",
      "\n",
      "c:\\Users\\misla\\.pyenv\\pyenv-win\\versions\\3.10.2\\lib\\site-packages\\sklearn\\cluster\\_kmeans.py:870: FutureWarning:\n",
      "\n",
      "The default value of `n_init` will change from 10 to 'auto' in 1.4. Set the value of `n_init` explicitly to suppress the warning\n",
      "\n",
      "c:\\Users\\misla\\.pyenv\\pyenv-win\\versions\\3.10.2\\lib\\site-packages\\sklearn\\cluster\\_kmeans.py:870: FutureWarning:\n",
      "\n",
      "The default value of `n_init` will change from 10 to 'auto' in 1.4. Set the value of `n_init` explicitly to suppress the warning\n",
      "\n",
      "c:\\Users\\misla\\.pyenv\\pyenv-win\\versions\\3.10.2\\lib\\site-packages\\sklearn\\cluster\\_kmeans.py:870: FutureWarning:\n",
      "\n",
      "The default value of `n_init` will change from 10 to 'auto' in 1.4. Set the value of `n_init` explicitly to suppress the warning\n",
      "\n",
      "c:\\Users\\misla\\.pyenv\\pyenv-win\\versions\\3.10.2\\lib\\site-packages\\sklearn\\cluster\\_kmeans.py:870: FutureWarning:\n",
      "\n",
      "The default value of `n_init` will change from 10 to 'auto' in 1.4. Set the value of `n_init` explicitly to suppress the warning\n",
      "\n",
      "c:\\Users\\misla\\.pyenv\\pyenv-win\\versions\\3.10.2\\lib\\site-packages\\sklearn\\cluster\\_kmeans.py:870: FutureWarning:\n",
      "\n",
      "The default value of `n_init` will change from 10 to 'auto' in 1.4. Set the value of `n_init` explicitly to suppress the warning\n",
      "\n",
      "c:\\Users\\misla\\.pyenv\\pyenv-win\\versions\\3.10.2\\lib\\site-packages\\sklearn\\cluster\\_kmeans.py:870: FutureWarning:\n",
      "\n",
      "The default value of `n_init` will change from 10 to 'auto' in 1.4. Set the value of `n_init` explicitly to suppress the warning\n",
      "\n",
      "c:\\Users\\misla\\.pyenv\\pyenv-win\\versions\\3.10.2\\lib\\site-packages\\sklearn\\cluster\\_kmeans.py:870: FutureWarning:\n",
      "\n",
      "The default value of `n_init` will change from 10 to 'auto' in 1.4. Set the value of `n_init` explicitly to suppress the warning\n",
      "\n",
      "c:\\Users\\misla\\.pyenv\\pyenv-win\\versions\\3.10.2\\lib\\site-packages\\sklearn\\cluster\\_kmeans.py:870: FutureWarning:\n",
      "\n",
      "The default value of `n_init` will change from 10 to 'auto' in 1.4. Set the value of `n_init` explicitly to suppress the warning\n",
      "\n"
     ]
    },
    {
     "data": {
      "image/png": "[encoded data removed]",
      "text/plain": [
       "<Figure size 640x480 with 1 Axes>"
      ]
     },
     "metadata": {},
     "output_type": "display_data"
    }
   ],
   "source": [
    "# Metodo del codo para determinar el número de clusters\n",
    "\n",
    "inertia = []\n",
    "\n",
    "for i in range(1, 11):\n",
    "\n",
    "    kmeans = KMeans(n_clusters=i)\n",
    "    kmeans.fit(df_cluster)\n",
    "    inertia.append(kmeans.inertia_)\n",
    "\n",
    "sns.lineplot(x=range(1, 11), y=inertia);"
   ]
  },
  {
   "cell_type": "code",
   "execution_count": 176,
   "metadata": {},
   "outputs": [
    {
     "name": "stderr",
     "output_type": "stream",
     "text": [
      "c:\\Users\\misla\\.pyenv\\pyenv-win\\versions\\3.10.2\\lib\\site-packages\\sklearn\\cluster\\_kmeans.py:870: FutureWarning:\n",
      "\n",
      "The default value of `n_init` will change from 10 to 'auto' in 1.4. Set the value of `n_init` explicitly to suppress the warning\n",
      "\n",
      "c:\\Users\\misla\\.pyenv\\pyenv-win\\versions\\3.10.2\\lib\\site-packages\\sklearn\\cluster\\_kmeans.py:870: FutureWarning:\n",
      "\n",
      "The default value of `n_init` will change from 10 to 'auto' in 1.4. Set the value of `n_init` explicitly to suppress the warning\n",
      "\n",
      "c:\\Users\\misla\\.pyenv\\pyenv-win\\versions\\3.10.2\\lib\\site-packages\\sklearn\\cluster\\_kmeans.py:870: FutureWarning:\n",
      "\n",
      "The default value of `n_init` will change from 10 to 'auto' in 1.4. Set the value of `n_init` explicitly to suppress the warning\n",
      "\n",
      "c:\\Users\\misla\\.pyenv\\pyenv-win\\versions\\3.10.2\\lib\\site-packages\\sklearn\\cluster\\_kmeans.py:870: FutureWarning:\n",
      "\n",
      "The default value of `n_init` will change from 10 to 'auto' in 1.4. Set the value of `n_init` explicitly to suppress the warning\n",
      "\n",
      "c:\\Users\\misla\\.pyenv\\pyenv-win\\versions\\3.10.2\\lib\\site-packages\\sklearn\\cluster\\_kmeans.py:870: FutureWarning:\n",
      "\n",
      "The default value of `n_init` will change from 10 to 'auto' in 1.4. Set the value of `n_init` explicitly to suppress the warning\n",
      "\n",
      "c:\\Users\\misla\\.pyenv\\pyenv-win\\versions\\3.10.2\\lib\\site-packages\\sklearn\\cluster\\_kmeans.py:870: FutureWarning:\n",
      "\n",
      "The default value of `n_init` will change from 10 to 'auto' in 1.4. Set the value of `n_init` explicitly to suppress the warning\n",
      "\n",
      "c:\\Users\\misla\\.pyenv\\pyenv-win\\versions\\3.10.2\\lib\\site-packages\\sklearn\\cluster\\_kmeans.py:870: FutureWarning:\n",
      "\n",
      "The default value of `n_init` will change from 10 to 'auto' in 1.4. Set the value of `n_init` explicitly to suppress the warning\n",
      "\n",
      "c:\\Users\\misla\\.pyenv\\pyenv-win\\versions\\3.10.2\\lib\\site-packages\\sklearn\\cluster\\_kmeans.py:870: FutureWarning:\n",
      "\n",
      "The default value of `n_init` will change from 10 to 'auto' in 1.4. Set the value of `n_init` explicitly to suppress the warning\n",
      "\n",
      "c:\\Users\\misla\\.pyenv\\pyenv-win\\versions\\3.10.2\\lib\\site-packages\\sklearn\\cluster\\_kmeans.py:870: FutureWarning:\n",
      "\n",
      "The default value of `n_init` will change from 10 to 'auto' in 1.4. Set the value of `n_init` explicitly to suppress the warning\n",
      "\n"
     ]
    },
    {
     "data": {
      "image/png": "[encoded data removed]",
      "text/plain": [
       "<Figure size 640x480 with 1 Axes>"
      ]
     },
     "metadata": {},
     "output_type": "display_data"
    }
   ],
   "source": [
    "# Metodo de la silueta para determinar el número de clusters\n",
    "\n",
    "from sklearn.metrics import silhouette_score\n",
    "\n",
    "silhouette = []\n",
    "\n",
    "for i in range(2, 11):\n",
    "    \n",
    "        kmeans = KMeans(n_clusters=i)\n",
    "        kmeans.fit(df_scaled)\n",
    "        silhouette.append(silhouette_score(df_scaled, kmeans.labels_))\n",
    "\n",
    "sns.lineplot(x=range(2, 11), y=silhouette);"
   ]
  },
  {
   "cell_type": "code",
   "execution_count": 261,
   "metadata": {},
   "outputs": [
    {
     "data": {
      "text/html": [
       "<div>\n",
       "<style scoped>\n",
       "    .dataframe tbody tr th:only-of-type {\n",
       "        vertical-align: middle;\n",
       "    }\n",
       "\n",
       "    .dataframe tbody tr th {\n",
       "        vertical-align: top;\n",
       "    }\n",
       "\n",
       "    .dataframe thead th {\n",
       "        text-align: right;\n",
       "    }\n",
       "</style>\n",
       "<table border=\"1\" class=\"dataframe\">\n",
       "  <thead>\n",
       "    <tr style=\"text-align: right;\">\n",
       "      <th></th>\n",
       "      <th>ClienteID</th>\n",
       "      <th>Income</th>\n",
       "      <th>Ubicacion</th>\n",
       "      <th>HaComprado</th>\n",
       "      <th>FrecuenciaCompra</th>\n",
       "      <th>CategoríaProductoFavorito</th>\n",
       "      <th>GastoMensual</th>\n",
       "      <th>Mes</th>\n",
       "      <th>Año</th>\n",
       "      <th>Edad</th>\n",
       "      <th>...</th>\n",
       "      <th>Latitud</th>\n",
       "      <th>Longitud</th>\n",
       "      <th>Day_of_Week</th>\n",
       "      <th>Hour</th>\n",
       "      <th>Days_Since_Last_Purchase</th>\n",
       "      <th>Average_Days_Between_Purchases</th>\n",
       "      <th>Monthly_Spending_Std</th>\n",
       "      <th>Cancellation_Rate</th>\n",
       "      <th>Average_Transaction_Value</th>\n",
       "      <th>Cluster</th>\n",
       "    </tr>\n",
       "  </thead>\n",
       "  <tbody>\n",
       "    <tr>\n",
       "      <th>0</th>\n",
       "      <td>1</td>\n",
       "      <td>31161.480791</td>\n",
       "      <td>Rome</td>\n",
       "      <td>1</td>\n",
       "      <td>3</td>\n",
       "      <td>Electrónica</td>\n",
       "      <td>354.238240</td>\n",
       "      <td>Julio</td>\n",
       "      <td>2022</td>\n",
       "      <td>53</td>\n",
       "      <td>...</td>\n",
       "      <td>41.911252</td>\n",
       "      <td>12.501644</td>\n",
       "      <td>Sunday</td>\n",
       "      <td>19</td>\n",
       "      <td>29.764254</td>\n",
       "      <td>2.607769</td>\n",
       "      <td>73.154439</td>\n",
       "      <td>0.271263</td>\n",
       "      <td>207.470986</td>\n",
       "      <td>1</td>\n",
       "    </tr>\n",
       "    <tr>\n",
       "      <th>1</th>\n",
       "      <td>2</td>\n",
       "      <td>30880.904610</td>\n",
       "      <td>Stockholm</td>\n",
       "      <td>1</td>\n",
       "      <td>14</td>\n",
       "      <td>Moda</td>\n",
       "      <td>247.349866</td>\n",
       "      <td>Abril</td>\n",
       "      <td>2022</td>\n",
       "      <td>55</td>\n",
       "      <td>...</td>\n",
       "      <td>59.331134</td>\n",
       "      <td>18.062440</td>\n",
       "      <td>Thursday</td>\n",
       "      <td>21</td>\n",
       "      <td>23.066846</td>\n",
       "      <td>5.692095</td>\n",
       "      <td>139.003909</td>\n",
       "      <td>0.188224</td>\n",
       "      <td>35.335695</td>\n",
       "      <td>2</td>\n",
       "    </tr>\n",
       "    <tr>\n",
       "      <th>2</th>\n",
       "      <td>3</td>\n",
       "      <td>24237.173142</td>\n",
       "      <td>Stockholm</td>\n",
       "      <td>1</td>\n",
       "      <td>2</td>\n",
       "      <td>Electrónica</td>\n",
       "      <td>314.977616</td>\n",
       "      <td>Noviembre</td>\n",
       "      <td>2021</td>\n",
       "      <td>28</td>\n",
       "      <td>...</td>\n",
       "      <td>59.332634</td>\n",
       "      <td>18.071068</td>\n",
       "      <td>Sunday</td>\n",
       "      <td>11</td>\n",
       "      <td>28.635921</td>\n",
       "      <td>5.626180</td>\n",
       "      <td>32.056281</td>\n",
       "      <td>0.188723</td>\n",
       "      <td>75.167011</td>\n",
       "      <td>1</td>\n",
       "    </tr>\n",
       "    <tr>\n",
       "      <th>3</th>\n",
       "      <td>4</td>\n",
       "      <td>22496.158034</td>\n",
       "      <td>Madrid</td>\n",
       "      <td>1</td>\n",
       "      <td>0</td>\n",
       "      <td>Libros</td>\n",
       "      <td>225.669044</td>\n",
       "      <td>Agosto</td>\n",
       "      <td>2020</td>\n",
       "      <td>50</td>\n",
       "      <td>...</td>\n",
       "      <td>40.422948</td>\n",
       "      <td>-3.704413</td>\n",
       "      <td>Sunday</td>\n",
       "      <td>20</td>\n",
       "      <td>183.229483</td>\n",
       "      <td>35.436342</td>\n",
       "      <td>37.074231</td>\n",
       "      <td>0.311976</td>\n",
       "      <td>84.954799</td>\n",
       "      <td>0</td>\n",
       "    </tr>\n",
       "    <tr>\n",
       "      <th>4</th>\n",
       "      <td>5</td>\n",
       "      <td>30825.113991</td>\n",
       "      <td>Paris</td>\n",
       "      <td>1</td>\n",
       "      <td>11</td>\n",
       "      <td>Electrónica</td>\n",
       "      <td>278.430570</td>\n",
       "      <td>Mayo</td>\n",
       "      <td>2020</td>\n",
       "      <td>41</td>\n",
       "      <td>...</td>\n",
       "      <td>48.857746</td>\n",
       "      <td>2.345578</td>\n",
       "      <td>Wednesday</td>\n",
       "      <td>25</td>\n",
       "      <td>24.527618</td>\n",
       "      <td>61.676897</td>\n",
       "      <td>210.712576</td>\n",
       "      <td>0.128081</td>\n",
       "      <td>92.810190</td>\n",
       "      <td>2</td>\n",
       "    </tr>\n",
       "    <tr>\n",
       "      <th>...</th>\n",
       "      <td>...</td>\n",
       "      <td>...</td>\n",
       "      <td>...</td>\n",
       "      <td>...</td>\n",
       "      <td>...</td>\n",
       "      <td>...</td>\n",
       "      <td>...</td>\n",
       "      <td>...</td>\n",
       "      <td>...</td>\n",
       "      <td>...</td>\n",
       "      <td>...</td>\n",
       "      <td>...</td>\n",
       "      <td>...</td>\n",
       "      <td>...</td>\n",
       "      <td>...</td>\n",
       "      <td>...</td>\n",
       "      <td>...</td>\n",
       "      <td>...</td>\n",
       "      <td>...</td>\n",
       "      <td>...</td>\n",
       "      <td>...</td>\n",
       "    </tr>\n",
       "    <tr>\n",
       "      <th>195</th>\n",
       "      <td>196</td>\n",
       "      <td>30830.440663</td>\n",
       "      <td>Berlin</td>\n",
       "      <td>1</td>\n",
       "      <td>8</td>\n",
       "      <td>Hogar</td>\n",
       "      <td>341.746413</td>\n",
       "      <td>Septiembre</td>\n",
       "      <td>2022</td>\n",
       "      <td>25</td>\n",
       "      <td>...</td>\n",
       "      <td>52.528639</td>\n",
       "      <td>13.409293</td>\n",
       "      <td>Saturday</td>\n",
       "      <td>18</td>\n",
       "      <td>70.781393</td>\n",
       "      <td>61.569749</td>\n",
       "      <td>42.261339</td>\n",
       "      <td>0.263613</td>\n",
       "      <td>79.642799</td>\n",
       "      <td>1</td>\n",
       "    </tr>\n",
       "    <tr>\n",
       "      <th>196</th>\n",
       "      <td>197</td>\n",
       "      <td>24898.083764</td>\n",
       "      <td>Madrid</td>\n",
       "      <td>0</td>\n",
       "      <td>7</td>\n",
       "      <td>Electrónica</td>\n",
       "      <td>282.578068</td>\n",
       "      <td>Mayo</td>\n",
       "      <td>2020</td>\n",
       "      <td>58</td>\n",
       "      <td>...</td>\n",
       "      <td>40.392115</td>\n",
       "      <td>-3.693188</td>\n",
       "      <td>Thursday</td>\n",
       "      <td>25</td>\n",
       "      <td>23.536406</td>\n",
       "      <td>25.426559</td>\n",
       "      <td>117.751123</td>\n",
       "      <td>0.211815</td>\n",
       "      <td>282.578068</td>\n",
       "      <td>2</td>\n",
       "    </tr>\n",
       "    <tr>\n",
       "      <th>197</th>\n",
       "      <td>198</td>\n",
       "      <td>28654.527810</td>\n",
       "      <td>Amsterdam</td>\n",
       "      <td>1</td>\n",
       "      <td>5</td>\n",
       "      <td>Electrónica</td>\n",
       "      <td>305.755382</td>\n",
       "      <td>Enero</td>\n",
       "      <td>2020</td>\n",
       "      <td>23</td>\n",
       "      <td>...</td>\n",
       "      <td>52.358882</td>\n",
       "      <td>4.906023</td>\n",
       "      <td>Sunday</td>\n",
       "      <td>9</td>\n",
       "      <td>20.355153</td>\n",
       "      <td>6.141810</td>\n",
       "      <td>8.530414</td>\n",
       "      <td>0.006641</td>\n",
       "      <td>7.980584</td>\n",
       "      <td>1</td>\n",
       "    </tr>\n",
       "    <tr>\n",
       "      <th>198</th>\n",
       "      <td>199</td>\n",
       "      <td>37445.225869</td>\n",
       "      <td>Stockholm</td>\n",
       "      <td>1</td>\n",
       "      <td>8</td>\n",
       "      <td>Alimentos</td>\n",
       "      <td>324.730833</td>\n",
       "      <td>Marzo</td>\n",
       "      <td>2020</td>\n",
       "      <td>22</td>\n",
       "      <td>...</td>\n",
       "      <td>59.334092</td>\n",
       "      <td>18.062819</td>\n",
       "      <td>Tuesday</td>\n",
       "      <td>18</td>\n",
       "      <td>109.252252</td>\n",
       "      <td>15.019298</td>\n",
       "      <td>73.100675</td>\n",
       "      <td>0.383294</td>\n",
       "      <td>153.649838</td>\n",
       "      <td>1</td>\n",
       "    </tr>\n",
       "    <tr>\n",
       "      <th>199</th>\n",
       "      <td>200</td>\n",
       "      <td>34389.125842</td>\n",
       "      <td>Prague</td>\n",
       "      <td>1</td>\n",
       "      <td>5</td>\n",
       "      <td>Alimentos</td>\n",
       "      <td>356.368668</td>\n",
       "      <td>Octubre</td>\n",
       "      <td>2021</td>\n",
       "      <td>61</td>\n",
       "      <td>...</td>\n",
       "      <td>50.089165</td>\n",
       "      <td>14.419014</td>\n",
       "      <td>Friday</td>\n",
       "      <td>25</td>\n",
       "      <td>38.970631</td>\n",
       "      <td>20.300167</td>\n",
       "      <td>88.944345</td>\n",
       "      <td>0.094101</td>\n",
       "      <td>71.273734</td>\n",
       "      <td>2</td>\n",
       "    </tr>\n",
       "  </tbody>\n",
       "</table>\n",
       "<p>200 rows × 23 columns</p>\n",
       "</div>"
      ],
      "text/plain": [
       "     ClienteID        Income  Ubicacion  HaComprado  FrecuenciaCompra  \\\n",
       "0            1  31161.480791       Rome           1                 3   \n",
       "1            2  30880.904610  Stockholm           1                14   \n",
       "2            3  24237.173142  Stockholm           1                 2   \n",
       "3            4  22496.158034     Madrid           1                 0   \n",
       "4            5  30825.113991      Paris           1                11   \n",
       "..         ...           ...        ...         ...               ...   \n",
       "195        196  30830.440663     Berlin           1                 8   \n",
       "196        197  24898.083764     Madrid           0                 7   \n",
       "197        198  28654.527810  Amsterdam           1                 5   \n",
       "198        199  37445.225869  Stockholm           1                 8   \n",
       "199        200  34389.125842     Prague           1                 5   \n",
       "\n",
       "    CategoríaProductoFavorito  GastoMensual         Mes   Año  Edad  ...  \\\n",
       "0                 Electrónica    354.238240       Julio  2022    53  ...   \n",
       "1                        Moda    247.349866       Abril  2022    55  ...   \n",
       "2                 Electrónica    314.977616   Noviembre  2021    28  ...   \n",
       "3                      Libros    225.669044      Agosto  2020    50  ...   \n",
       "4                 Electrónica    278.430570        Mayo  2020    41  ...   \n",
       "..                        ...           ...         ...   ...   ...  ...   \n",
       "195                     Hogar    341.746413  Septiembre  2022    25  ...   \n",
       "196               Electrónica    282.578068        Mayo  2020    58  ...   \n",
       "197               Electrónica    305.755382       Enero  2020    23  ...   \n",
       "198                 Alimentos    324.730833       Marzo  2020    22  ...   \n",
       "199                 Alimentos    356.368668     Octubre  2021    61  ...   \n",
       "\n",
       "       Latitud   Longitud  Day_of_Week  Hour  Days_Since_Last_Purchase  \\\n",
       "0    41.911252  12.501644       Sunday    19                 29.764254   \n",
       "1    59.331134  18.062440     Thursday    21                 23.066846   \n",
       "2    59.332634  18.071068       Sunday    11                 28.635921   \n",
       "3    40.422948  -3.704413       Sunday    20                183.229483   \n",
       "4    48.857746   2.345578    Wednesday    25                 24.527618   \n",
       "..         ...        ...          ...   ...                       ...   \n",
       "195  52.528639  13.409293     Saturday    18                 70.781393   \n",
       "196  40.392115  -3.693188     Thursday    25                 23.536406   \n",
       "197  52.358882   4.906023       Sunday     9                 20.355153   \n",
       "198  59.334092  18.062819      Tuesday    18                109.252252   \n",
       "199  50.089165  14.419014       Friday    25                 38.970631   \n",
       "\n",
       "    Average_Days_Between_Purchases  Monthly_Spending_Std  Cancellation_Rate  \\\n",
       "0                         2.607769             73.154439           0.271263   \n",
       "1                         5.692095            139.003909           0.188224   \n",
       "2                         5.626180             32.056281           0.188723   \n",
       "3                        35.436342             37.074231           0.311976   \n",
       "4                        61.676897            210.712576           0.128081   \n",
       "..                             ...                   ...                ...   \n",
       "195                      61.569749             42.261339           0.263613   \n",
       "196                      25.426559            117.751123           0.211815   \n",
       "197                       6.141810              8.530414           0.006641   \n",
       "198                      15.019298             73.100675           0.383294   \n",
       "199                      20.300167             88.944345           0.094101   \n",
       "\n",
       "     Average_Transaction_Value  Cluster  \n",
       "0                   207.470986        1  \n",
       "1                    35.335695        2  \n",
       "2                    75.167011        1  \n",
       "3                    84.954799        0  \n",
       "4                    92.810190        2  \n",
       "..                         ...      ...  \n",
       "195                  79.642799        1  \n",
       "196                 282.578068        2  \n",
       "197                   7.980584        1  \n",
       "198                 153.649838        1  \n",
       "199                  71.273734        2  \n",
       "\n",
       "[200 rows x 23 columns]"
      ]
     },
     "execution_count": 261,
     "metadata": {},
     "output_type": "execute_result"
    }
   ],
   "source": [
    "df"
   ]
  },
  {
   "cell_type": "code",
   "execution_count": null,
   "metadata": {},
   "outputs": [],
   "source": [
    "# "
   ]
  }
 ],
 "metadata": {
  "kernelspec": {
   "display_name": "Python 3",
   "language": "python",
   "name": "python3"
  },
  "language_info": {
   "codemirror_mode": {
    "name": "ipython",
    "version": 3
   },
   "file_extension": ".py",
   "mimetype": "text/x-python",
   "name": "python",
   "nbconvert_exporter": "python",
   "pygments_lexer": "ipython3",
   "version": "3.10.2"
  }
 },
 "nbformat": 4,
 "nbformat_minor": 2
}
